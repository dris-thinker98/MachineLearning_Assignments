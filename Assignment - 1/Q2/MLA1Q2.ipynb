{
  "nbformat": 4,
  "nbformat_minor": 0,
  "metadata": {
    "colab": {
      "name": "MLA1Q2.ipynb",
      "provenance": []
    },
    "kernelspec": {
      "name": "python3",
      "display_name": "Python 3"
    }
  },
  "cells": [
    {
      "cell_type": "code",
      "metadata": {
        "id": "KuAwoLIG0VJ8",
        "colab_type": "code",
        "colab": {
          "base_uri": "https://localhost:8080/",
          "height": 70
        },
        "outputId": "5d1f328a-1216-4cf1-891c-4a476f42c6b9"
      },
      "source": [
        "import pandas as pd\n",
        "import scipy.io\n",
        "import random\n",
        "import numpy as np\n",
        "import matplotlib.pyplot as plt\n",
        "import seaborn as sns\n",
        "from sklearn.tree import DecisionTreeClassifier as dtc"
      ],
      "execution_count": 1,
      "outputs": [
        {
          "output_type": "stream",
          "text": [
            "/usr/local/lib/python3.6/dist-packages/statsmodels/tools/_testing.py:19: FutureWarning: pandas.util.testing is deprecated. Use the functions in the public API at pandas.testing instead.\n",
            "  import pandas.util.testing as tm\n"
          ],
          "name": "stderr"
        }
      ]
    },
    {
      "cell_type": "code",
      "metadata": {
        "id": "JuwxiqEa0hiM",
        "colab_type": "code",
        "colab": {
          "base_uri": "https://localhost:8080/",
          "height": 34
        },
        "outputId": "ee26224b-9280-4b03-e87c-948579c79389"
      },
      "source": [
        "from google.colab import drive\n",
        "drive.mount('/content/drive')"
      ],
      "execution_count": 2,
      "outputs": [
        {
          "output_type": "stream",
          "text": [
            "Drive already mounted at /content/drive; to attempt to forcibly remount, call drive.mount(\"/content/drive\", force_remount=True).\n"
          ],
          "name": "stdout"
        }
      ]
    },
    {
      "cell_type": "code",
      "metadata": {
        "id": "a2I4JutQ0ozF",
        "colab_type": "code",
        "colab": {
          "base_uri": "https://localhost:8080/",
          "height": 134
        },
        "outputId": "06856d79-b062-4995-e239-cc73926f0c65"
      },
      "source": [
        "D = scipy.io.loadmat('/content/drive/My Drive/ML(PG)_assignment_1/dataset_2.mat')\n",
        "print(D)"
      ],
      "execution_count": 3,
      "outputs": [
        {
          "output_type": "stream",
          "text": [
            "{'__header__': b'MATLAB 5.0 MAT-file Platform: posix, Created on: Sat Sep 12 18:52:19 2020', '__version__': '1.0', '__globals__': [], 'samples': array([[-3.74203958, -3.04465737],\n",
            "       [ 4.60871196,  7.01765941],\n",
            "       [ 5.31135551,  0.97011991],\n",
            "       ...,\n",
            "       [ 5.17666258,  5.10746383],\n",
            "       [ 6.66563706,  5.465137  ],\n",
            "       [ 7.86690019,  4.4964122 ]]), 'labels': array([[0, 3, 2, ..., 3, 3, 3]])}\n"
          ],
          "name": "stdout"
        }
      ]
    },
    {
      "cell_type": "code",
      "metadata": {
        "id": "YBy4jHqM07B_",
        "colab_type": "code",
        "colab": {
          "base_uri": "https://localhost:8080/",
          "height": 252
        },
        "outputId": "276c2b86-0a21-41fd-c531-22216fb53b48"
      },
      "source": [
        "samplesarr2 = D['samples']\n",
        "data2 = pd.DataFrame(samplesarr2)\n",
        "labels2 = D['labels'].reshape(-1)\n",
        "data2['labels'] = labels2\n",
        "print(data2)"
      ],
      "execution_count": 4,
      "outputs": [
        {
          "output_type": "stream",
          "text": [
            "              0         1  labels\n",
            "0     -3.742040 -3.044657       0\n",
            "1      4.608712  7.017659       3\n",
            "2      5.311356  0.970120       2\n",
            "3      4.881857  5.295445       3\n",
            "4     -4.517404 -1.755663       0\n",
            "...         ...       ...     ...\n",
            "19995  5.052006  1.276917       2\n",
            "19996  4.035034  6.306404       3\n",
            "19997  5.176663  5.107464       3\n",
            "19998  6.665637  5.465137       3\n",
            "19999  7.866900  4.496412       3\n",
            "\n",
            "[20000 rows x 3 columns]\n"
          ],
          "name": "stdout"
        }
      ]
    },
    {
      "cell_type": "markdown",
      "metadata": {
        "id": "MOMDRAzrPv8E",
        "colab_type": "text"
      },
      "source": [
        "# **Answer to Q2**"
      ]
    },
    {
      "cell_type": "code",
      "metadata": {
        "id": "-zUer_yYFg4z",
        "colab_type": "code",
        "colab": {
          "base_uri": "https://localhost:8080/",
          "height": 343
        },
        "outputId": "13648ab9-2a1f-49b1-d980-fdff6db1eb50"
      },
      "source": [
        "data2.head(10)"
      ],
      "execution_count": 5,
      "outputs": [
        {
          "output_type": "execute_result",
          "data": {
            "text/html": [
              "<div>\n",
              "<style scoped>\n",
              "    .dataframe tbody tr th:only-of-type {\n",
              "        vertical-align: middle;\n",
              "    }\n",
              "\n",
              "    .dataframe tbody tr th {\n",
              "        vertical-align: top;\n",
              "    }\n",
              "\n",
              "    .dataframe thead th {\n",
              "        text-align: right;\n",
              "    }\n",
              "</style>\n",
              "<table border=\"1\" class=\"dataframe\">\n",
              "  <thead>\n",
              "    <tr style=\"text-align: right;\">\n",
              "      <th></th>\n",
              "      <th>0</th>\n",
              "      <th>1</th>\n",
              "      <th>labels</th>\n",
              "    </tr>\n",
              "  </thead>\n",
              "  <tbody>\n",
              "    <tr>\n",
              "      <th>0</th>\n",
              "      <td>-3.742040</td>\n",
              "      <td>-3.044657</td>\n",
              "      <td>0</td>\n",
              "    </tr>\n",
              "    <tr>\n",
              "      <th>1</th>\n",
              "      <td>4.608712</td>\n",
              "      <td>7.017659</td>\n",
              "      <td>3</td>\n",
              "    </tr>\n",
              "    <tr>\n",
              "      <th>2</th>\n",
              "      <td>5.311356</td>\n",
              "      <td>0.970120</td>\n",
              "      <td>2</td>\n",
              "    </tr>\n",
              "    <tr>\n",
              "      <th>3</th>\n",
              "      <td>4.881857</td>\n",
              "      <td>5.295445</td>\n",
              "      <td>3</td>\n",
              "    </tr>\n",
              "    <tr>\n",
              "      <th>4</th>\n",
              "      <td>-4.517404</td>\n",
              "      <td>-1.755663</td>\n",
              "      <td>0</td>\n",
              "    </tr>\n",
              "    <tr>\n",
              "      <th>5</th>\n",
              "      <td>7.995706</td>\n",
              "      <td>6.125495</td>\n",
              "      <td>3</td>\n",
              "    </tr>\n",
              "    <tr>\n",
              "      <th>6</th>\n",
              "      <td>7.353455</td>\n",
              "      <td>6.725916</td>\n",
              "      <td>3</td>\n",
              "    </tr>\n",
              "    <tr>\n",
              "      <th>7</th>\n",
              "      <td>-2.850123</td>\n",
              "      <td>6.649119</td>\n",
              "      <td>1</td>\n",
              "    </tr>\n",
              "    <tr>\n",
              "      <th>8</th>\n",
              "      <td>5.993990</td>\n",
              "      <td>5.836847</td>\n",
              "      <td>3</td>\n",
              "    </tr>\n",
              "    <tr>\n",
              "      <th>9</th>\n",
              "      <td>-5.263660</td>\n",
              "      <td>-2.624980</td>\n",
              "      <td>0</td>\n",
              "    </tr>\n",
              "  </tbody>\n",
              "</table>\n",
              "</div>"
            ],
            "text/plain": [
              "          0         1  labels\n",
              "0 -3.742040 -3.044657       0\n",
              "1  4.608712  7.017659       3\n",
              "2  5.311356  0.970120       2\n",
              "3  4.881857  5.295445       3\n",
              "4 -4.517404 -1.755663       0\n",
              "5  7.995706  6.125495       3\n",
              "6  7.353455  6.725916       3\n",
              "7 -2.850123  6.649119       1\n",
              "8  5.993990  5.836847       3\n",
              "9 -5.263660 -2.624980       0"
            ]
          },
          "metadata": {
            "tags": []
          },
          "execution_count": 5
        }
      ]
    },
    {
      "cell_type": "code",
      "metadata": {
        "id": "GbQFDwjD08Dt",
        "colab_type": "code",
        "colab": {}
      },
      "source": [
        "def Train_Test_Split(df):\n",
        "  #shuffle_df = df.sample(frac=1)\n",
        "  # Define a size for your train set \n",
        "  train_size = int(0.7 * len(df))\n",
        "\n",
        "  # Split your dataset \n",
        "  train_set = df[:train_size]\n",
        "  test_set = df[train_size:]\n",
        "  return train_set,test_set"
      ],
      "execution_count": 6,
      "outputs": []
    },
    {
      "cell_type": "code",
      "metadata": {
        "id": "eTQXBZ4P1YWs",
        "colab_type": "code",
        "colab": {}
      },
      "source": [
        "X_train,X_test=Train_Test_Split(data2.iloc[:,:2])"
      ],
      "execution_count": 7,
      "outputs": []
    },
    {
      "cell_type": "code",
      "metadata": {
        "id": "Md4KskFM31YG",
        "colab_type": "code",
        "colab": {}
      },
      "source": [
        "y_train,y_test=Train_Test_Split(data2.iloc[:,2:])"
      ],
      "execution_count": 8,
      "outputs": []
    },
    {
      "cell_type": "code",
      "metadata": {
        "id": "R-8UpcCT4Pqu",
        "colab_type": "code",
        "colab": {}
      },
      "source": [
        "cls=dtc(max_depth=3,class_weight='balanced')"
      ],
      "execution_count": 9,
      "outputs": []
    },
    {
      "cell_type": "code",
      "metadata": {
        "id": "EGZDFQxt64xY",
        "colab_type": "code",
        "colab": {
          "base_uri": "https://localhost:8080/",
          "height": 118
        },
        "outputId": "435ec955-5c09-4142-a22f-4e0595f7150a"
      },
      "source": [
        "cls.fit(X_train,y_train)"
      ],
      "execution_count": 10,
      "outputs": [
        {
          "output_type": "execute_result",
          "data": {
            "text/plain": [
              "DecisionTreeClassifier(ccp_alpha=0.0, class_weight='balanced', criterion='gini',\n",
              "                       max_depth=3, max_features=None, max_leaf_nodes=None,\n",
              "                       min_impurity_decrease=0.0, min_impurity_split=None,\n",
              "                       min_samples_leaf=1, min_samples_split=2,\n",
              "                       min_weight_fraction_leaf=0.0, presort='deprecated',\n",
              "                       random_state=None, splitter='best')"
            ]
          },
          "metadata": {
            "tags": []
          },
          "execution_count": 10
        }
      ]
    },
    {
      "cell_type": "code",
      "metadata": {
        "id": "3TtQTRdf7AED",
        "colab_type": "code",
        "colab": {}
      },
      "source": [
        "y_pred=cls.predict(X_test)"
      ],
      "execution_count": 11,
      "outputs": []
    },
    {
      "cell_type": "code",
      "metadata": {
        "id": "bKFjhv357WH9",
        "colab_type": "code",
        "colab": {}
      },
      "source": [
        "y_test1=np.array(y_test)"
      ],
      "execution_count": 12,
      "outputs": []
    },
    {
      "cell_type": "code",
      "metadata": {
        "id": "0rLe9LMHAWML",
        "colab_type": "code",
        "colab": {
          "base_uri": "https://localhost:8080/",
          "height": 34
        },
        "outputId": "6f870070-56aa-4f32-cb03-68f0db24816a"
      },
      "source": [
        "y_test1 = (y_test1).reshape(-1)\n",
        "y_test1"
      ],
      "execution_count": 13,
      "outputs": [
        {
          "output_type": "execute_result",
          "data": {
            "text/plain": [
              "array([3, 1, 3, ..., 3, 3, 3])"
            ]
          },
          "metadata": {
            "tags": []
          },
          "execution_count": 13
        }
      ]
    },
    {
      "cell_type": "code",
      "metadata": {
        "id": "OczmP6K1A-NS",
        "colab_type": "code",
        "colab": {
          "base_uri": "https://localhost:8080/",
          "height": 195
        },
        "outputId": "03997f6e-c24b-493f-ca14-6938e966019b"
      },
      "source": [
        "df_confusion = pd.crosstab(y_test1, y_pred)\n",
        "df_confusion"
      ],
      "execution_count": 14,
      "outputs": [
        {
          "output_type": "execute_result",
          "data": {
            "text/html": [
              "<div>\n",
              "<style scoped>\n",
              "    .dataframe tbody tr th:only-of-type {\n",
              "        vertical-align: middle;\n",
              "    }\n",
              "\n",
              "    .dataframe tbody tr th {\n",
              "        vertical-align: top;\n",
              "    }\n",
              "\n",
              "    .dataframe thead th {\n",
              "        text-align: right;\n",
              "    }\n",
              "</style>\n",
              "<table border=\"1\" class=\"dataframe\">\n",
              "  <thead>\n",
              "    <tr style=\"text-align: right;\">\n",
              "      <th>col_0</th>\n",
              "      <th>0</th>\n",
              "      <th>1</th>\n",
              "      <th>2</th>\n",
              "      <th>3</th>\n",
              "    </tr>\n",
              "    <tr>\n",
              "      <th>row_0</th>\n",
              "      <th></th>\n",
              "      <th></th>\n",
              "      <th></th>\n",
              "      <th></th>\n",
              "    </tr>\n",
              "  </thead>\n",
              "  <tbody>\n",
              "    <tr>\n",
              "      <th>0</th>\n",
              "      <td>1455</td>\n",
              "      <td>0</td>\n",
              "      <td>0</td>\n",
              "      <td>0</td>\n",
              "    </tr>\n",
              "    <tr>\n",
              "      <th>1</th>\n",
              "      <td>0</td>\n",
              "      <td>1486</td>\n",
              "      <td>0</td>\n",
              "      <td>0</td>\n",
              "    </tr>\n",
              "    <tr>\n",
              "      <th>2</th>\n",
              "      <td>0</td>\n",
              "      <td>0</td>\n",
              "      <td>1444</td>\n",
              "      <td>90</td>\n",
              "    </tr>\n",
              "    <tr>\n",
              "      <th>3</th>\n",
              "      <td>0</td>\n",
              "      <td>0</td>\n",
              "      <td>112</td>\n",
              "      <td>1413</td>\n",
              "    </tr>\n",
              "  </tbody>\n",
              "</table>\n",
              "</div>"
            ],
            "text/plain": [
              "col_0     0     1     2     3\n",
              "row_0                        \n",
              "0      1455     0     0     0\n",
              "1         0  1486     0     0\n",
              "2         0     0  1444    90\n",
              "3         0     0   112  1413"
            ]
          },
          "metadata": {
            "tags": []
          },
          "execution_count": 14
        }
      ]
    },
    {
      "cell_type": "code",
      "metadata": {
        "id": "SIPdzhbEC8ZN",
        "colab_type": "code",
        "colab": {}
      },
      "source": [
        "t_val=0\n",
        "f_val=0\n",
        "for i in range(4):\n",
        "  for j in range(4):\n",
        "    if i==j:\n",
        "      t_val+=df_confusion[i][j]\n",
        "    else:\n",
        "      f_val+=df_confusion[i][j]\n"
      ],
      "execution_count": 15,
      "outputs": []
    },
    {
      "cell_type": "code",
      "metadata": {
        "id": "Wm3myBySDiik",
        "colab_type": "code",
        "colab": {}
      },
      "source": [
        "accuracy=t_val/(f_val+t_val)"
      ],
      "execution_count": 16,
      "outputs": []
    },
    {
      "cell_type": "code",
      "metadata": {
        "id": "9TVYgwYVDxYk",
        "colab_type": "code",
        "colab": {
          "base_uri": "https://localhost:8080/",
          "height": 34
        },
        "outputId": "a0dd76b7-5ddc-4fb1-e785-80b9941d7374"
      },
      "source": [
        "accuracy"
      ],
      "execution_count": 17,
      "outputs": [
        {
          "output_type": "execute_result",
          "data": {
            "text/plain": [
              "0.9663333333333334"
            ]
          },
          "metadata": {
            "tags": []
          },
          "execution_count": 17
        }
      ]
    },
    {
      "cell_type": "markdown",
      "metadata": {
        "id": "jxAHG8AAsQZN",
        "colab_type": "text"
      },
      "source": [
        "# **Answer to Q2(a)**"
      ]
    },
    {
      "cell_type": "code",
      "metadata": {
        "id": "wLTDvMZI8GRS",
        "colab_type": "code",
        "colab": {}
      },
      "source": [
        "acc_array1=[]\n",
        "def Grid_Search():\n",
        "  for i in range(2,17):\n",
        "    cls=dtc(max_depth=i,class_weight='balanced')\n",
        "    cls= cls.fit(X_train,y_train)\n",
        "    y_pred=cls.predict(X_test)\n",
        "    y_test2=np.array(y_test)\n",
        "    y_test2 = (y_test2).reshape(-1)\n",
        "    df_confusion2 = pd.crosstab(y_test2, y_pred)\n",
        "    t_val1=0\n",
        "    f_val1=0\n",
        "    for i in range(4):\n",
        "      for j in range(4):\n",
        "        if i==j:\n",
        "          t_val1+=df_confusion2[i][j]\n",
        "        else:\n",
        "          f_val1+=df_confusion2[i][j]\n",
        "    accuracy1=t_val1/(f_val1+t_val1)\n",
        "    acc_array1.append(accuracy1)\n",
        "  return acc_array1"
      ],
      "execution_count": 31,
      "outputs": []
    },
    {
      "cell_type": "code",
      "metadata": {
        "id": "pywL2qeTuHkG",
        "colab_type": "code",
        "colab": {
          "base_uri": "https://localhost:8080/",
          "height": 265
        },
        "outputId": "1ddf1e15-2c6f-47e3-fd09-7d20e1d96f31"
      },
      "source": [
        "acc_array1 = Grid_Search()\n",
        "plt.plot(np.arange(2,17), acc_array1, marker = 'o')\n",
        "plt.show()"
      ],
      "execution_count": 19,
      "outputs": [
        {
          "output_type": "display_data",
          "data": {
            "image/png": "[encoded data removed]",
            "text/plain": [
              "<Figure size 432x288 with 1 Axes>"
            ]
          },
          "metadata": {
            "tags": [],
            "needs_background": "light"
          }
        }
      ]
    },
    {
      "cell_type": "code",
      "metadata": {
        "id": "HmMFymFpy9ym",
        "colab_type": "code",
        "colab": {
          "base_uri": "https://localhost:8080/",
          "height": 491
        },
        "outputId": "257727cd-3220-47fe-f508-d82b16ffcf5b"
      },
      "source": [
        "#For Depth vs Validation_accuracy table\n",
        "table1=np.vstack((np.arange(2,17),acc_array1)).T\n",
        "table1_df=pd.DataFrame(table1,columns=[\"Depth\",\"Validation_Accuracy\"])\n",
        "table1_df"
      ],
      "execution_count": 20,
      "outputs": [
        {
          "output_type": "execute_result",
          "data": {
            "text/html": [
              "<div>\n",
              "<style scoped>\n",
              "    .dataframe tbody tr th:only-of-type {\n",
              "        vertical-align: middle;\n",
              "    }\n",
              "\n",
              "    .dataframe tbody tr th {\n",
              "        vertical-align: top;\n",
              "    }\n",
              "\n",
              "    .dataframe thead th {\n",
              "        text-align: right;\n",
              "    }\n",
              "</style>\n",
              "<table border=\"1\" class=\"dataframe\">\n",
              "  <thead>\n",
              "    <tr style=\"text-align: right;\">\n",
              "      <th></th>\n",
              "      <th>Depth</th>\n",
              "      <th>Validation_Accuracy</th>\n",
              "    </tr>\n",
              "  </thead>\n",
              "  <tbody>\n",
              "    <tr>\n",
              "      <th>0</th>\n",
              "      <td>2.0</td>\n",
              "      <td>0.966333</td>\n",
              "    </tr>\n",
              "    <tr>\n",
              "      <th>1</th>\n",
              "      <td>3.0</td>\n",
              "      <td>0.966333</td>\n",
              "    </tr>\n",
              "    <tr>\n",
              "      <th>2</th>\n",
              "      <td>4.0</td>\n",
              "      <td>0.966167</td>\n",
              "    </tr>\n",
              "    <tr>\n",
              "      <th>3</th>\n",
              "      <td>5.0</td>\n",
              "      <td>0.964333</td>\n",
              "    </tr>\n",
              "    <tr>\n",
              "      <th>4</th>\n",
              "      <td>6.0</td>\n",
              "      <td>0.965833</td>\n",
              "    </tr>\n",
              "    <tr>\n",
              "      <th>5</th>\n",
              "      <td>7.0</td>\n",
              "      <td>0.965500</td>\n",
              "    </tr>\n",
              "    <tr>\n",
              "      <th>6</th>\n",
              "      <td>8.0</td>\n",
              "      <td>0.965000</td>\n",
              "    </tr>\n",
              "    <tr>\n",
              "      <th>7</th>\n",
              "      <td>9.0</td>\n",
              "      <td>0.963000</td>\n",
              "    </tr>\n",
              "    <tr>\n",
              "      <th>8</th>\n",
              "      <td>10.0</td>\n",
              "      <td>0.962500</td>\n",
              "    </tr>\n",
              "    <tr>\n",
              "      <th>9</th>\n",
              "      <td>11.0</td>\n",
              "      <td>0.961000</td>\n",
              "    </tr>\n",
              "    <tr>\n",
              "      <th>10</th>\n",
              "      <td>12.0</td>\n",
              "      <td>0.960167</td>\n",
              "    </tr>\n",
              "    <tr>\n",
              "      <th>11</th>\n",
              "      <td>13.0</td>\n",
              "      <td>0.959167</td>\n",
              "    </tr>\n",
              "    <tr>\n",
              "      <th>12</th>\n",
              "      <td>14.0</td>\n",
              "      <td>0.956000</td>\n",
              "    </tr>\n",
              "    <tr>\n",
              "      <th>13</th>\n",
              "      <td>15.0</td>\n",
              "      <td>0.954833</td>\n",
              "    </tr>\n",
              "    <tr>\n",
              "      <th>14</th>\n",
              "      <td>16.0</td>\n",
              "      <td>0.953667</td>\n",
              "    </tr>\n",
              "  </tbody>\n",
              "</table>\n",
              "</div>"
            ],
            "text/plain": [
              "    Depth  Validation_Accuracy\n",
              "0     2.0             0.966333\n",
              "1     3.0             0.966333\n",
              "2     4.0             0.966167\n",
              "3     5.0             0.964333\n",
              "4     6.0             0.965833\n",
              "5     7.0             0.965500\n",
              "6     8.0             0.965000\n",
              "7     9.0             0.963000\n",
              "8    10.0             0.962500\n",
              "9    11.0             0.961000\n",
              "10   12.0             0.960167\n",
              "11   13.0             0.959167\n",
              "12   14.0             0.956000\n",
              "13   15.0             0.954833\n",
              "14   16.0             0.953667"
            ]
          },
          "metadata": {
            "tags": []
          },
          "execution_count": 20
        }
      ]
    },
    {
      "cell_type": "markdown",
      "metadata": {
        "id": "GkQlyZSvB-sN",
        "colab_type": "text"
      },
      "source": [
        "# **Answer to Q2(b)**"
      ]
    },
    {
      "cell_type": "code",
      "metadata": {
        "id": "-mS121piB6hl",
        "colab_type": "code",
        "colab": {}
      },
      "source": [
        "acc_array2=[]\n",
        "def Grid_Search2():\n",
        "  for i in range(2,17):\n",
        "    cls=dtc(max_depth=i,class_weight='balanced')\n",
        "    cls= cls.fit(X_train,y_train)\n",
        "    y_pred2=cls.predict(X_train)\n",
        "    y_train2=np.array(y_train)\n",
        "    y_train2 = (y_train2).reshape(-1)\n",
        "    df_confusion3 = pd.crosstab(y_train2, y_pred2)\n",
        "    t_val2=0\n",
        "    f_val2=0\n",
        "    for i in range(4):\n",
        "      for j in range(4):\n",
        "        if i==j:\n",
        "          t_val2+=df_confusion3[i][j]\n",
        "        else:\n",
        "          f_val2+=df_confusion3[i][j]\n",
        "    accuracy2=t_val2/(f_val2+t_val2)\n",
        "    acc_array2.append(accuracy2)\n",
        "  return acc_array2"
      ],
      "execution_count": 21,
      "outputs": []
    },
    {
      "cell_type": "code",
      "metadata": {
        "id": "M5WfF-i4D1VQ",
        "colab_type": "code",
        "colab": {
          "base_uri": "https://localhost:8080/",
          "height": 265
        },
        "outputId": "dd21ef75-66c1-43e6-98a8-5a7644e766ba"
      },
      "source": [
        "acc_array2 = Grid_Search2()\n",
        "plt.plot(np.arange(2,17), acc_array2, marker = 'o')\n",
        "plt.show()"
      ],
      "execution_count": 22,
      "outputs": [
        {
          "output_type": "display_data",
          "data": {
            "image/png": "[encoded data removed]",
            "text/plain": [
              "<Figure size 432x288 with 1 Axes>"
            ]
          },
          "metadata": {
            "tags": [],
            "needs_background": "light"
          }
        }
      ]
    },
    {
      "cell_type": "code",
      "metadata": {
        "id": "MmC8ekNqEhhN",
        "colab_type": "code",
        "colab": {
          "base_uri": "https://localhost:8080/",
          "height": 491
        },
        "outputId": "28fd2ade-bc44-490e-dcad-0d8978532fbc"
      },
      "source": [
        "train_acc = pd.DataFrame(acc_array2)\n",
        "train_acc\n",
        "table2_df = table1_df\n",
        "table2_df['Training_accuracy'] = train_acc\n",
        "table2_df"
      ],
      "execution_count": 23,
      "outputs": [
        {
          "output_type": "execute_result",
          "data": {
            "text/html": [
              "<div>\n",
              "<style scoped>\n",
              "    .dataframe tbody tr th:only-of-type {\n",
              "        vertical-align: middle;\n",
              "    }\n",
              "\n",
              "    .dataframe tbody tr th {\n",
              "        vertical-align: top;\n",
              "    }\n",
              "\n",
              "    .dataframe thead th {\n",
              "        text-align: right;\n",
              "    }\n",
              "</style>\n",
              "<table border=\"1\" class=\"dataframe\">\n",
              "  <thead>\n",
              "    <tr style=\"text-align: right;\">\n",
              "      <th></th>\n",
              "      <th>Depth</th>\n",
              "      <th>Validation_Accuracy</th>\n",
              "      <th>Training_accuracy</th>\n",
              "    </tr>\n",
              "  </thead>\n",
              "  <tbody>\n",
              "    <tr>\n",
              "      <th>0</th>\n",
              "      <td>2.0</td>\n",
              "      <td>0.966333</td>\n",
              "      <td>0.966929</td>\n",
              "    </tr>\n",
              "    <tr>\n",
              "      <th>1</th>\n",
              "      <td>3.0</td>\n",
              "      <td>0.966333</td>\n",
              "      <td>0.966929</td>\n",
              "    </tr>\n",
              "    <tr>\n",
              "      <th>2</th>\n",
              "      <td>4.0</td>\n",
              "      <td>0.966167</td>\n",
              "      <td>0.967000</td>\n",
              "    </tr>\n",
              "    <tr>\n",
              "      <th>3</th>\n",
              "      <td>5.0</td>\n",
              "      <td>0.964333</td>\n",
              "      <td>0.967929</td>\n",
              "    </tr>\n",
              "    <tr>\n",
              "      <th>4</th>\n",
              "      <td>6.0</td>\n",
              "      <td>0.965833</td>\n",
              "      <td>0.969357</td>\n",
              "    </tr>\n",
              "    <tr>\n",
              "      <th>5</th>\n",
              "      <td>7.0</td>\n",
              "      <td>0.965500</td>\n",
              "      <td>0.970357</td>\n",
              "    </tr>\n",
              "    <tr>\n",
              "      <th>6</th>\n",
              "      <td>8.0</td>\n",
              "      <td>0.965000</td>\n",
              "      <td>0.972714</td>\n",
              "    </tr>\n",
              "    <tr>\n",
              "      <th>7</th>\n",
              "      <td>9.0</td>\n",
              "      <td>0.963000</td>\n",
              "      <td>0.974714</td>\n",
              "    </tr>\n",
              "    <tr>\n",
              "      <th>8</th>\n",
              "      <td>10.0</td>\n",
              "      <td>0.962500</td>\n",
              "      <td>0.977429</td>\n",
              "    </tr>\n",
              "    <tr>\n",
              "      <th>9</th>\n",
              "      <td>11.0</td>\n",
              "      <td>0.961000</td>\n",
              "      <td>0.980000</td>\n",
              "    </tr>\n",
              "    <tr>\n",
              "      <th>10</th>\n",
              "      <td>12.0</td>\n",
              "      <td>0.960167</td>\n",
              "      <td>0.981786</td>\n",
              "    </tr>\n",
              "    <tr>\n",
              "      <th>11</th>\n",
              "      <td>13.0</td>\n",
              "      <td>0.959167</td>\n",
              "      <td>0.984143</td>\n",
              "    </tr>\n",
              "    <tr>\n",
              "      <th>12</th>\n",
              "      <td>14.0</td>\n",
              "      <td>0.956000</td>\n",
              "      <td>0.986286</td>\n",
              "    </tr>\n",
              "    <tr>\n",
              "      <th>13</th>\n",
              "      <td>15.0</td>\n",
              "      <td>0.954833</td>\n",
              "      <td>0.988071</td>\n",
              "    </tr>\n",
              "    <tr>\n",
              "      <th>14</th>\n",
              "      <td>16.0</td>\n",
              "      <td>0.953667</td>\n",
              "      <td>0.989714</td>\n",
              "    </tr>\n",
              "  </tbody>\n",
              "</table>\n",
              "</div>"
            ],
            "text/plain": [
              "    Depth  Validation_Accuracy  Training_accuracy\n",
              "0     2.0             0.966333           0.966929\n",
              "1     3.0             0.966333           0.966929\n",
              "2     4.0             0.966167           0.967000\n",
              "3     5.0             0.964333           0.967929\n",
              "4     6.0             0.965833           0.969357\n",
              "5     7.0             0.965500           0.970357\n",
              "6     8.0             0.965000           0.972714\n",
              "7     9.0             0.963000           0.974714\n",
              "8    10.0             0.962500           0.977429\n",
              "9    11.0             0.961000           0.980000\n",
              "10   12.0             0.960167           0.981786\n",
              "11   13.0             0.959167           0.984143\n",
              "12   14.0             0.956000           0.986286\n",
              "13   15.0             0.954833           0.988071\n",
              "14   16.0             0.953667           0.989714"
            ]
          },
          "metadata": {
            "tags": []
          },
          "execution_count": 23
        }
      ]
    },
    {
      "cell_type": "markdown",
      "metadata": {
        "id": "z0T4ebrBN_sh",
        "colab_type": "text"
      },
      "source": [
        "# **Answer to Q2(c)**"
      ]
    },
    {
      "cell_type": "code",
      "metadata": {
        "id": "Qx4MHvuJOF4k",
        "colab_type": "code",
        "colab": {}
      },
      "source": [
        "from sklearn import metrics\n",
        "acc_array3=[]\n",
        "def Grid_Search3():\n",
        "  for i in range(2,17):\n",
        "    cls=dtc(max_depth=i,class_weight='balanced')\n",
        "    cls= cls.fit(X_train,y_train)\n",
        "    y_pred=cls.predict(X_test)\n",
        "    y_test2=np.array(y_test)\n",
        "    y_test2 = (y_test2).reshape(-1)\n",
        "    accuracy3=metrics.accuracy_score(y_test,y_pred)\n",
        "    acc_array3.append(accuracy3)\n",
        "  return acc_array3"
      ],
      "execution_count": 24,
      "outputs": []
    },
    {
      "cell_type": "code",
      "metadata": {
        "id": "RJu3P_gER11P",
        "colab_type": "code",
        "colab": {
          "base_uri": "https://localhost:8080/",
          "height": 265
        },
        "outputId": "14e39569-7f69-4beb-ec72-a2eefc2c97e7"
      },
      "source": [
        "acc_array3 = Grid_Search3()\n",
        "plt.plot(np.arange(2,17), acc_array3, marker = 'o')\n",
        "plt.show()"
      ],
      "execution_count": 25,
      "outputs": [
        {
          "output_type": "display_data",
          "data": {
            "image/png": "[encoded data removed]",
            "text/plain": [
              "<Figure size 432x288 with 1 Axes>"
            ]
          },
          "metadata": {
            "tags": [],
            "needs_background": "light"
          }
        }
      ]
    },
    {
      "cell_type": "code",
      "metadata": {
        "id": "m5IU4e_3Tirf",
        "colab_type": "code",
        "colab": {
          "base_uri": "https://localhost:8080/",
          "height": 269
        },
        "outputId": "d9010ea6-8a1d-4020-9412-c3b39a3b8b18"
      },
      "source": [
        "acc_array1"
      ],
      "execution_count": 26,
      "outputs": [
        {
          "output_type": "execute_result",
          "data": {
            "text/plain": [
              "[0.9663333333333334,\n",
              " 0.9663333333333334,\n",
              " 0.9661666666666666,\n",
              " 0.9643333333333334,\n",
              " 0.9658333333333333,\n",
              " 0.9655,\n",
              " 0.965,\n",
              " 0.963,\n",
              " 0.9625,\n",
              " 0.961,\n",
              " 0.9601666666666666,\n",
              " 0.9591666666666666,\n",
              " 0.956,\n",
              " 0.9548333333333333,\n",
              " 0.9536666666666667]"
            ]
          },
          "metadata": {
            "tags": []
          },
          "execution_count": 26
        }
      ]
    },
    {
      "cell_type": "code",
      "metadata": {
        "id": "ygPAYZ0xSOI0",
        "colab_type": "code",
        "colab": {
          "base_uri": "https://localhost:8080/",
          "height": 491
        },
        "outputId": "d7169c01-a1c2-461c-b06e-10e0765029a1"
      },
      "source": [
        "valid_acc = pd.DataFrame(acc_array3)\n",
        "table3_df = table1_df.iloc[:,:2]\n",
        "table3_df['Validation_Accuracy(metrics)'] = valid_acc\n",
        "acc_array1  = Grid_Search()\n",
        "diff_arr = np.subtract(acc_array1, acc_array3)\n",
        "diff = pd.DataFrame(diff_arr)\n",
        "table3_df['Difference'] = diff\n",
        "table3_df"
      ],
      "execution_count": 32,
      "outputs": [
        {
          "output_type": "execute_result",
          "data": {
            "text/html": [
              "<div>\n",
              "<style scoped>\n",
              "    .dataframe tbody tr th:only-of-type {\n",
              "        vertical-align: middle;\n",
              "    }\n",
              "\n",
              "    .dataframe tbody tr th {\n",
              "        vertical-align: top;\n",
              "    }\n",
              "\n",
              "    .dataframe thead th {\n",
              "        text-align: right;\n",
              "    }\n",
              "</style>\n",
              "<table border=\"1\" class=\"dataframe\">\n",
              "  <thead>\n",
              "    <tr style=\"text-align: right;\">\n",
              "      <th></th>\n",
              "      <th>Depth</th>\n",
              "      <th>Validation_Accuracy</th>\n",
              "      <th>Validation_Accuracy(metrics)</th>\n",
              "      <th>Difference</th>\n",
              "    </tr>\n",
              "  </thead>\n",
              "  <tbody>\n",
              "    <tr>\n",
              "      <th>0</th>\n",
              "      <td>2.0</td>\n",
              "      <td>0.966333</td>\n",
              "      <td>0.966333</td>\n",
              "      <td>0.000000</td>\n",
              "    </tr>\n",
              "    <tr>\n",
              "      <th>1</th>\n",
              "      <td>3.0</td>\n",
              "      <td>0.966333</td>\n",
              "      <td>0.966333</td>\n",
              "      <td>0.000000</td>\n",
              "    </tr>\n",
              "    <tr>\n",
              "      <th>2</th>\n",
              "      <td>4.0</td>\n",
              "      <td>0.966167</td>\n",
              "      <td>0.966167</td>\n",
              "      <td>0.000000</td>\n",
              "    </tr>\n",
              "    <tr>\n",
              "      <th>3</th>\n",
              "      <td>5.0</td>\n",
              "      <td>0.964333</td>\n",
              "      <td>0.964500</td>\n",
              "      <td>0.000000</td>\n",
              "    </tr>\n",
              "    <tr>\n",
              "      <th>4</th>\n",
              "      <td>6.0</td>\n",
              "      <td>0.965833</td>\n",
              "      <td>0.966000</td>\n",
              "      <td>0.000000</td>\n",
              "    </tr>\n",
              "    <tr>\n",
              "      <th>5</th>\n",
              "      <td>7.0</td>\n",
              "      <td>0.965500</td>\n",
              "      <td>0.965500</td>\n",
              "      <td>-0.000167</td>\n",
              "    </tr>\n",
              "    <tr>\n",
              "      <th>6</th>\n",
              "      <td>8.0</td>\n",
              "      <td>0.965000</td>\n",
              "      <td>0.965000</td>\n",
              "      <td>0.000000</td>\n",
              "    </tr>\n",
              "    <tr>\n",
              "      <th>7</th>\n",
              "      <td>9.0</td>\n",
              "      <td>0.963000</td>\n",
              "      <td>0.962500</td>\n",
              "      <td>0.000167</td>\n",
              "    </tr>\n",
              "    <tr>\n",
              "      <th>8</th>\n",
              "      <td>10.0</td>\n",
              "      <td>0.962500</td>\n",
              "      <td>0.962167</td>\n",
              "      <td>0.000000</td>\n",
              "    </tr>\n",
              "    <tr>\n",
              "      <th>9</th>\n",
              "      <td>11.0</td>\n",
              "      <td>0.961000</td>\n",
              "      <td>0.961000</td>\n",
              "      <td>0.000500</td>\n",
              "    </tr>\n",
              "    <tr>\n",
              "      <th>10</th>\n",
              "      <td>12.0</td>\n",
              "      <td>0.960167</td>\n",
              "      <td>0.960333</td>\n",
              "      <td>-0.000333</td>\n",
              "    </tr>\n",
              "    <tr>\n",
              "      <th>11</th>\n",
              "      <td>13.0</td>\n",
              "      <td>0.959167</td>\n",
              "      <td>0.958667</td>\n",
              "      <td>-0.000333</td>\n",
              "    </tr>\n",
              "    <tr>\n",
              "      <th>12</th>\n",
              "      <td>14.0</td>\n",
              "      <td>0.956000</td>\n",
              "      <td>0.956000</td>\n",
              "      <td>0.000000</td>\n",
              "    </tr>\n",
              "    <tr>\n",
              "      <th>13</th>\n",
              "      <td>15.0</td>\n",
              "      <td>0.954833</td>\n",
              "      <td>0.954833</td>\n",
              "      <td>0.001000</td>\n",
              "    </tr>\n",
              "    <tr>\n",
              "      <th>14</th>\n",
              "      <td>16.0</td>\n",
              "      <td>0.953667</td>\n",
              "      <td>0.954000</td>\n",
              "      <td>0.000500</td>\n",
              "    </tr>\n",
              "  </tbody>\n",
              "</table>\n",
              "</div>"
            ],
            "text/plain": [
              "    Depth  Validation_Accuracy  Validation_Accuracy(metrics)  Difference\n",
              "0     2.0             0.966333                      0.966333    0.000000\n",
              "1     3.0             0.966333                      0.966333    0.000000\n",
              "2     4.0             0.966167                      0.966167    0.000000\n",
              "3     5.0             0.964333                      0.964500    0.000000\n",
              "4     6.0             0.965833                      0.966000    0.000000\n",
              "5     7.0             0.965500                      0.965500   -0.000167\n",
              "6     8.0             0.965000                      0.965000    0.000000\n",
              "7     9.0             0.963000                      0.962500    0.000167\n",
              "8    10.0             0.962500                      0.962167    0.000000\n",
              "9    11.0             0.961000                      0.961000    0.000500\n",
              "10   12.0             0.960167                      0.960333   -0.000333\n",
              "11   13.0             0.959167                      0.958667   -0.000333\n",
              "12   14.0             0.956000                      0.956000    0.000000\n",
              "13   15.0             0.954833                      0.954833    0.001000\n",
              "14   16.0             0.953667                      0.954000    0.000500"
            ]
          },
          "metadata": {
            "tags": []
          },
          "execution_count": 32
        }
      ]
    }
  ]
}