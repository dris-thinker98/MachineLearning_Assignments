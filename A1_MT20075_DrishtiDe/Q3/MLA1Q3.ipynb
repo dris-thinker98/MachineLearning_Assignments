{
  "nbformat": 4,
  "nbformat_minor": 0,
  "metadata": {
    "colab": {
      "name": "MLA1Q3.ipynb",
      "provenance": [],
      "collapsed_sections": []
    },
    "kernelspec": {
      "name": "python3",
      "display_name": "Python 3"
    }
  },
  "cells": [
    {
      "cell_type": "code",
      "metadata": {
        "id": "pWaG0bkHdf4q"
      },
      "source": [
        "!pip install -U -q PyDrive\n",
        "from pydrive.auth import GoogleAuth\n",
        "from pydrive.drive import GoogleDrive\n",
        "from google.colab import auth\n",
        "from oauth2client.client import GoogleCredentials"
      ],
      "execution_count": 1,
      "outputs": []
    },
    {
      "cell_type": "code",
      "metadata": {
        "id": "VAotMZ3bidUL"
      },
      "source": [
        "auth.authenticate_user()\n",
        "gauth = GoogleAuth()\n",
        "gauth.credentials = GoogleCredentials.get_application_default()\n",
        "drive = GoogleDrive(gauth)"
      ],
      "execution_count": 2,
      "outputs": []
    },
    {
      "cell_type": "code",
      "metadata": {
        "id": "ddj2v5dbpJsK",
        "outputId": "3ea1e7e2-7e2a-400e-a466-797725c0ff41",
        "colab": {
          "base_uri": "https://localhost:8080/",
          "height": 70
        }
      },
      "source": [
        "import pandas as pd\n",
        "import numpy as np\n",
        "import matplotlib.pyplot as plt\n",
        "import seaborn as sns\n",
        "import scipy.stats\n",
        "import statistics\n",
        "from sklearn.tree import DecisionTreeClassifier as dtc"
      ],
      "execution_count": 3,
      "outputs": [
        {
          "output_type": "stream",
          "text": [
            "/usr/local/lib/python3.6/dist-packages/statsmodels/tools/_testing.py:19: FutureWarning: pandas.util.testing is deprecated. Use the functions in the public API at pandas.testing instead.\n",
            "  import pandas.util.testing as tm\n"
          ],
          "name": "stderr"
        }
      ]
    },
    {
      "cell_type": "code",
      "metadata": {
        "id": "LKd0ZfMabVXL"
      },
      "source": [
        "data = drive.CreateFile({'id': '1Wnnp5B62JxZxM6TU5lZeL9LEwP1bpVn7'}) #https://drive.google.com/file/d/1Wnnp5B62JxZxM6TU5lZeL9LEwP1bpVn7/view?usp=sharing\n",
        "data.GetContentFile('MLA1Q3data.csv')\n",
        "data3 = pd.read_csv('MLA1Q3data.csv')"
      ],
      "execution_count": 4,
      "outputs": []
    },
    {
      "cell_type": "code",
      "metadata": {
        "id": "UOzawFItrVu6",
        "outputId": "a65dede7-ab22-43b9-8172-c5948e894308",
        "colab": {
          "base_uri": "https://localhost:8080/",
          "height": 402
        }
      },
      "source": [
        "data3.fillna(value=data3['pm2.5'].mean(),inplace=True)\n",
        "del data3['No']  #removing \"No\" column\n",
        "del data3['year']\n",
        "del data3['day']\n",
        "del data3['hour']\n",
        "data3['cbwd']=pd.factorize(data3['cbwd'])[0]+1  #converting \"cbwd\" string values to factors\n",
        "data3"
      ],
      "execution_count": 5,
      "outputs": [
        {
          "output_type": "execute_result",
          "data": {
            "text/html": [
              "<div>\n",
              "<style scoped>\n",
              "    .dataframe tbody tr th:only-of-type {\n",
              "        vertical-align: middle;\n",
              "    }\n",
              "\n",
              "    .dataframe tbody tr th {\n",
              "        vertical-align: top;\n",
              "    }\n",
              "\n",
              "    .dataframe thead th {\n",
              "        text-align: right;\n",
              "    }\n",
              "</style>\n",
              "<table border=\"1\" class=\"dataframe\">\n",
              "  <thead>\n",
              "    <tr style=\"text-align: right;\">\n",
              "      <th></th>\n",
              "      <th>month</th>\n",
              "      <th>pm2.5</th>\n",
              "      <th>DEWP</th>\n",
              "      <th>TEMP</th>\n",
              "      <th>PRES</th>\n",
              "      <th>cbwd</th>\n",
              "      <th>Iws</th>\n",
              "      <th>Is</th>\n",
              "      <th>Ir</th>\n",
              "    </tr>\n",
              "  </thead>\n",
              "  <tbody>\n",
              "    <tr>\n",
              "      <th>0</th>\n",
              "      <td>1</td>\n",
              "      <td>98.613215</td>\n",
              "      <td>-21</td>\n",
              "      <td>-11.0</td>\n",
              "      <td>1021.0</td>\n",
              "      <td>1</td>\n",
              "      <td>1.79</td>\n",
              "      <td>0</td>\n",
              "      <td>0</td>\n",
              "    </tr>\n",
              "    <tr>\n",
              "      <th>1</th>\n",
              "      <td>1</td>\n",
              "      <td>98.613215</td>\n",
              "      <td>-21</td>\n",
              "      <td>-12.0</td>\n",
              "      <td>1020.0</td>\n",
              "      <td>1</td>\n",
              "      <td>4.92</td>\n",
              "      <td>0</td>\n",
              "      <td>0</td>\n",
              "    </tr>\n",
              "    <tr>\n",
              "      <th>2</th>\n",
              "      <td>1</td>\n",
              "      <td>98.613215</td>\n",
              "      <td>-21</td>\n",
              "      <td>-11.0</td>\n",
              "      <td>1019.0</td>\n",
              "      <td>1</td>\n",
              "      <td>6.71</td>\n",
              "      <td>0</td>\n",
              "      <td>0</td>\n",
              "    </tr>\n",
              "    <tr>\n",
              "      <th>3</th>\n",
              "      <td>1</td>\n",
              "      <td>98.613215</td>\n",
              "      <td>-21</td>\n",
              "      <td>-14.0</td>\n",
              "      <td>1019.0</td>\n",
              "      <td>1</td>\n",
              "      <td>9.84</td>\n",
              "      <td>0</td>\n",
              "      <td>0</td>\n",
              "    </tr>\n",
              "    <tr>\n",
              "      <th>4</th>\n",
              "      <td>1</td>\n",
              "      <td>98.613215</td>\n",
              "      <td>-20</td>\n",
              "      <td>-12.0</td>\n",
              "      <td>1018.0</td>\n",
              "      <td>1</td>\n",
              "      <td>12.97</td>\n",
              "      <td>0</td>\n",
              "      <td>0</td>\n",
              "    </tr>\n",
              "    <tr>\n",
              "      <th>...</th>\n",
              "      <td>...</td>\n",
              "      <td>...</td>\n",
              "      <td>...</td>\n",
              "      <td>...</td>\n",
              "      <td>...</td>\n",
              "      <td>...</td>\n",
              "      <td>...</td>\n",
              "      <td>...</td>\n",
              "      <td>...</td>\n",
              "    </tr>\n",
              "    <tr>\n",
              "      <th>43819</th>\n",
              "      <td>12</td>\n",
              "      <td>8.000000</td>\n",
              "      <td>-23</td>\n",
              "      <td>-2.0</td>\n",
              "      <td>1034.0</td>\n",
              "      <td>1</td>\n",
              "      <td>231.97</td>\n",
              "      <td>0</td>\n",
              "      <td>0</td>\n",
              "    </tr>\n",
              "    <tr>\n",
              "      <th>43820</th>\n",
              "      <td>12</td>\n",
              "      <td>10.000000</td>\n",
              "      <td>-22</td>\n",
              "      <td>-3.0</td>\n",
              "      <td>1034.0</td>\n",
              "      <td>1</td>\n",
              "      <td>237.78</td>\n",
              "      <td>0</td>\n",
              "      <td>0</td>\n",
              "    </tr>\n",
              "    <tr>\n",
              "      <th>43821</th>\n",
              "      <td>12</td>\n",
              "      <td>10.000000</td>\n",
              "      <td>-22</td>\n",
              "      <td>-3.0</td>\n",
              "      <td>1034.0</td>\n",
              "      <td>1</td>\n",
              "      <td>242.70</td>\n",
              "      <td>0</td>\n",
              "      <td>0</td>\n",
              "    </tr>\n",
              "    <tr>\n",
              "      <th>43822</th>\n",
              "      <td>12</td>\n",
              "      <td>8.000000</td>\n",
              "      <td>-22</td>\n",
              "      <td>-4.0</td>\n",
              "      <td>1034.0</td>\n",
              "      <td>1</td>\n",
              "      <td>246.72</td>\n",
              "      <td>0</td>\n",
              "      <td>0</td>\n",
              "    </tr>\n",
              "    <tr>\n",
              "      <th>43823</th>\n",
              "      <td>12</td>\n",
              "      <td>12.000000</td>\n",
              "      <td>-21</td>\n",
              "      <td>-3.0</td>\n",
              "      <td>1034.0</td>\n",
              "      <td>1</td>\n",
              "      <td>249.85</td>\n",
              "      <td>0</td>\n",
              "      <td>0</td>\n",
              "    </tr>\n",
              "  </tbody>\n",
              "</table>\n",
              "<p>43824 rows × 9 columns</p>\n",
              "</div>"
            ],
            "text/plain": [
              "       month      pm2.5  DEWP  TEMP    PRES  cbwd     Iws  Is  Ir\n",
              "0          1  98.613215   -21 -11.0  1021.0     1    1.79   0   0\n",
              "1          1  98.613215   -21 -12.0  1020.0     1    4.92   0   0\n",
              "2          1  98.613215   -21 -11.0  1019.0     1    6.71   0   0\n",
              "3          1  98.613215   -21 -14.0  1019.0     1    9.84   0   0\n",
              "4          1  98.613215   -20 -12.0  1018.0     1   12.97   0   0\n",
              "...      ...        ...   ...   ...     ...   ...     ...  ..  ..\n",
              "43819     12   8.000000   -23  -2.0  1034.0     1  231.97   0   0\n",
              "43820     12  10.000000   -22  -3.0  1034.0     1  237.78   0   0\n",
              "43821     12  10.000000   -22  -3.0  1034.0     1  242.70   0   0\n",
              "43822     12   8.000000   -22  -4.0  1034.0     1  246.72   0   0\n",
              "43823     12  12.000000   -21  -3.0  1034.0     1  249.85   0   0\n",
              "\n",
              "[43824 rows x 9 columns]"
            ]
          },
          "metadata": {
            "tags": []
          },
          "execution_count": 5
        }
      ]
    },
    {
      "cell_type": "code",
      "metadata": {
        "id": "tnRreaCyR1f-",
        "outputId": "631f923f-e988-4b4b-a6bb-6ec21269387b",
        "colab": {
          "base_uri": "https://localhost:8080/",
          "height": 185
        }
      },
      "source": [
        "data3.isnull().sum()"
      ],
      "execution_count": 6,
      "outputs": [
        {
          "output_type": "execute_result",
          "data": {
            "text/plain": [
              "month    0\n",
              "pm2.5    0\n",
              "DEWP     0\n",
              "TEMP     0\n",
              "PRES     0\n",
              "cbwd     0\n",
              "Iws      0\n",
              "Is       0\n",
              "Ir       0\n",
              "dtype: int64"
            ]
          },
          "metadata": {
            "tags": []
          },
          "execution_count": 6
        }
      ]
    },
    {
      "cell_type": "code",
      "metadata": {
        "id": "_-w2ZzGoYu0O"
      },
      "source": [
        "def Train_Test_Split(df):\n",
        "  train_size = int(0.8 * len(df))\n",
        "\n",
        "  train_set = df[:train_size]\n",
        "  test_set = df[train_size:]\n",
        "  return train_set,test_set"
      ],
      "execution_count": 7,
      "outputs": []
    },
    {
      "cell_type": "code",
      "metadata": {
        "id": "iAdgNukLZe8u"
      },
      "source": [
        "X_train,X_test=Train_Test_Split(data3.iloc[:,1:])"
      ],
      "execution_count": 8,
      "outputs": []
    },
    {
      "cell_type": "code",
      "metadata": {
        "id": "EmMWlctzhyT_"
      },
      "source": [
        "y_train,y_test=Train_Test_Split(data3.iloc[:,:1])"
      ],
      "execution_count": 9,
      "outputs": []
    },
    {
      "cell_type": "markdown",
      "metadata": {
        "id": "3u04qjM4mswh"
      },
      "source": [
        "# **Answer to Q3(a)**"
      ]
    },
    {
      "cell_type": "code",
      "metadata": {
        "id": "VcW5dylNiXpC",
        "outputId": "55a04567-5f4d-4753-b7ad-7b7acd4fa7c7",
        "colab": {
          "base_uri": "https://localhost:8080/",
          "height": 34
        }
      },
      "source": [
        "#Using Gini-Index\n",
        "cls=dtc(criterion='gini')\n",
        "cls.fit(X_train,y_train)\n",
        "y_pred=cls.predict(X_test)\n",
        "y_test1=np.array(y_test)\n",
        "y_test1 = (y_test1).reshape(-1)\n",
        "df_confusion = pd.crosstab(y_test1, y_pred)\n",
        "t_val=0\n",
        "f_val=0\n",
        "for i in range(1,13):\n",
        "  for j in range(1,13):\n",
        "    if i==j:\n",
        "      t_val+=df_confusion[i][j]\n",
        "    else:\n",
        "      f_val+=df_confusion[i][j]\n",
        "accuracy=t_val/(f_val+t_val)\n",
        "accuracy"
      ],
      "execution_count": 10,
      "outputs": [
        {
          "output_type": "execute_result",
          "data": {
            "text/plain": [
              "0.3869937250427838"
            ]
          },
          "metadata": {
            "tags": []
          },
          "execution_count": 10
        }
      ]
    },
    {
      "cell_type": "code",
      "metadata": {
        "id": "ziEQGm8h94Lt",
        "outputId": "f1152ced-8658-482f-f1ba-4cf25ba43dbb",
        "colab": {
          "base_uri": "https://localhost:8080/",
          "height": 34
        }
      },
      "source": [
        "#Using Entropy\n",
        "cls=dtc(criterion='entropy')\n",
        "cls.fit(X_train,y_train)\n",
        "y_pred=cls.predict(X_test)\n",
        "y_test1=np.array(y_test)\n",
        "y_test1 = (y_test1).reshape(-1)\n",
        "df_confusion = pd.crosstab(y_test1, y_pred)\n",
        "t_val=0\n",
        "f_val=0\n",
        "for i in range(1,13):\n",
        "  for j in range(1,13):\n",
        "    if i==j:\n",
        "      t_val+=df_confusion[i][j]\n",
        "    else:\n",
        "      f_val+=df_confusion[i][j]\n",
        "accuracy=t_val/(f_val+t_val)\n",
        "accuracy"
      ],
      "execution_count": 11,
      "outputs": [
        {
          "output_type": "execute_result",
          "data": {
            "text/plain": [
              "0.3869937250427838"
            ]
          },
          "metadata": {
            "tags": []
          },
          "execution_count": 11
        }
      ]
    },
    {
      "cell_type": "markdown",
      "metadata": {
        "id": "5P0JwCCE_nMq"
      },
      "source": [
        "# **Answer to Q3(b)**"
      ]
    },
    {
      "cell_type": "code",
      "metadata": {
        "id": "ZZmstySWiZUW",
        "outputId": "7f72c392-30b0-4de3-b8b4-192193131855",
        "colab": {
          "base_uri": "https://localhost:8080/",
          "height": 118
        }
      },
      "source": [
        "#testing accuracies\n",
        "depths = [2,4,8,10,15,30]\n",
        "accvals = []\n",
        "for d in depths:\n",
        "  cls=dtc(criterion='entropy',max_depth=d)\n",
        "  cls=cls.fit(X_train,y_train)\n",
        "  y_pred = cls.predict(X_test)\n",
        "  y_test2 = np.array(y_test)\n",
        "  y_test2 = (y_test2).reshape(-1)\n",
        "  accuracy = np.sum(y_pred == y_test2)/len(y_pred)\n",
        "  accvals.append(accuracy)\n",
        "accvals"
      ],
      "execution_count": 12,
      "outputs": [
        {
          "output_type": "execute_result",
          "data": {
            "text/plain": [
              "[0.24244152880775813,\n",
              " 0.3486594409583571,\n",
              " 0.42920707358813465,\n",
              " 0.4296634341129492,\n",
              " 0.3925841414717627,\n",
              " 0.3898459783228751]"
            ]
          },
          "metadata": {
            "tags": []
          },
          "execution_count": 12
        }
      ]
    },
    {
      "cell_type": "code",
      "metadata": {
        "id": "DZpvD6sSNCFb",
        "outputId": "656df17c-dd5e-4161-f986-9892a8884697",
        "colab": {
          "base_uri": "https://localhost:8080/",
          "height": 225
        }
      },
      "source": [
        "depths = [2,4,8,10,15,30]\n",
        "table=np.vstack((depths, accvals)).T\n",
        "table_df=pd.DataFrame(table,columns=[\"Depths\",\"Testing_Accuracy\"])\n",
        "table_df"
      ],
      "execution_count": 13,
      "outputs": [
        {
          "output_type": "execute_result",
          "data": {
            "text/html": [
              "<div>\n",
              "<style scoped>\n",
              "    .dataframe tbody tr th:only-of-type {\n",
              "        vertical-align: middle;\n",
              "    }\n",
              "\n",
              "    .dataframe tbody tr th {\n",
              "        vertical-align: top;\n",
              "    }\n",
              "\n",
              "    .dataframe thead th {\n",
              "        text-align: right;\n",
              "    }\n",
              "</style>\n",
              "<table border=\"1\" class=\"dataframe\">\n",
              "  <thead>\n",
              "    <tr style=\"text-align: right;\">\n",
              "      <th></th>\n",
              "      <th>Depths</th>\n",
              "      <th>Testing_Accuracy</th>\n",
              "    </tr>\n",
              "  </thead>\n",
              "  <tbody>\n",
              "    <tr>\n",
              "      <th>0</th>\n",
              "      <td>2.0</td>\n",
              "      <td>0.242442</td>\n",
              "    </tr>\n",
              "    <tr>\n",
              "      <th>1</th>\n",
              "      <td>4.0</td>\n",
              "      <td>0.348659</td>\n",
              "    </tr>\n",
              "    <tr>\n",
              "      <th>2</th>\n",
              "      <td>8.0</td>\n",
              "      <td>0.429207</td>\n",
              "    </tr>\n",
              "    <tr>\n",
              "      <th>3</th>\n",
              "      <td>10.0</td>\n",
              "      <td>0.429663</td>\n",
              "    </tr>\n",
              "    <tr>\n",
              "      <th>4</th>\n",
              "      <td>15.0</td>\n",
              "      <td>0.392584</td>\n",
              "    </tr>\n",
              "    <tr>\n",
              "      <th>5</th>\n",
              "      <td>30.0</td>\n",
              "      <td>0.389846</td>\n",
              "    </tr>\n",
              "  </tbody>\n",
              "</table>\n",
              "</div>"
            ],
            "text/plain": [
              "   Depths  Testing_Accuracy\n",
              "0     2.0          0.242442\n",
              "1     4.0          0.348659\n",
              "2     8.0          0.429207\n",
              "3    10.0          0.429663\n",
              "4    15.0          0.392584\n",
              "5    30.0          0.389846"
            ]
          },
          "metadata": {
            "tags": []
          },
          "execution_count": 13
        }
      ]
    },
    {
      "cell_type": "code",
      "metadata": {
        "id": "9fPJM1lINyH0",
        "outputId": "c04fbbf8-58eb-45d8-94c6-035fa1657779",
        "colab": {
          "base_uri": "https://localhost:8080/",
          "height": 118
        }
      },
      "source": [
        "#training accuracies\n",
        "depths = [2,4,8,10,15,30]\n",
        "accvals2 = []\n",
        "for d in depths:\n",
        "  cls=dtc(criterion='entropy',max_depth=d)\n",
        "  cls=cls.fit(X_train,y_train)\n",
        "  y_pred2 = cls.predict(X_train)\n",
        "  y_train2 = np.array(y_train)\n",
        "  y_train2 = (y_train2).reshape(-1)\n",
        "  accuracy = np.sum(y_pred2 == y_train2)/len(y_pred2)\n",
        "  accvals2.append(accuracy)\n",
        "accvals2"
      ],
      "execution_count": 14,
      "outputs": [
        {
          "output_type": "execute_result",
          "data": {
            "text/plain": [
              "[0.2879717048404119,\n",
              " 0.39747283151259305,\n",
              " 0.5340140905331013,\n",
              " 0.6135942268746969,\n",
              " 0.8649990016828775,\n",
              " 0.999885906614564]"
            ]
          },
          "metadata": {
            "tags": []
          },
          "execution_count": 14
        }
      ]
    },
    {
      "cell_type": "code",
      "metadata": {
        "id": "Cz3a8d-EOgzW",
        "outputId": "840ef2f4-285d-4e2e-816e-bf58f2c9b140",
        "colab": {
          "base_uri": "https://localhost:8080/",
          "height": 225
        }
      },
      "source": [
        "trainacc = pd.DataFrame(accvals2)\n",
        "table_df['Training_Accuracy'] = trainacc \n",
        "table_df"
      ],
      "execution_count": 15,
      "outputs": [
        {
          "output_type": "execute_result",
          "data": {
            "text/html": [
              "<div>\n",
              "<style scoped>\n",
              "    .dataframe tbody tr th:only-of-type {\n",
              "        vertical-align: middle;\n",
              "    }\n",
              "\n",
              "    .dataframe tbody tr th {\n",
              "        vertical-align: top;\n",
              "    }\n",
              "\n",
              "    .dataframe thead th {\n",
              "        text-align: right;\n",
              "    }\n",
              "</style>\n",
              "<table border=\"1\" class=\"dataframe\">\n",
              "  <thead>\n",
              "    <tr style=\"text-align: right;\">\n",
              "      <th></th>\n",
              "      <th>Depths</th>\n",
              "      <th>Testing_Accuracy</th>\n",
              "      <th>Training_Accuracy</th>\n",
              "    </tr>\n",
              "  </thead>\n",
              "  <tbody>\n",
              "    <tr>\n",
              "      <th>0</th>\n",
              "      <td>2.0</td>\n",
              "      <td>0.242442</td>\n",
              "      <td>0.287972</td>\n",
              "    </tr>\n",
              "    <tr>\n",
              "      <th>1</th>\n",
              "      <td>4.0</td>\n",
              "      <td>0.348659</td>\n",
              "      <td>0.397473</td>\n",
              "    </tr>\n",
              "    <tr>\n",
              "      <th>2</th>\n",
              "      <td>8.0</td>\n",
              "      <td>0.429207</td>\n",
              "      <td>0.534014</td>\n",
              "    </tr>\n",
              "    <tr>\n",
              "      <th>3</th>\n",
              "      <td>10.0</td>\n",
              "      <td>0.429663</td>\n",
              "      <td>0.613594</td>\n",
              "    </tr>\n",
              "    <tr>\n",
              "      <th>4</th>\n",
              "      <td>15.0</td>\n",
              "      <td>0.392584</td>\n",
              "      <td>0.864999</td>\n",
              "    </tr>\n",
              "    <tr>\n",
              "      <th>5</th>\n",
              "      <td>30.0</td>\n",
              "      <td>0.389846</td>\n",
              "      <td>0.999886</td>\n",
              "    </tr>\n",
              "  </tbody>\n",
              "</table>\n",
              "</div>"
            ],
            "text/plain": [
              "   Depths  Testing_Accuracy  Training_Accuracy\n",
              "0     2.0          0.242442           0.287972\n",
              "1     4.0          0.348659           0.397473\n",
              "2     8.0          0.429207           0.534014\n",
              "3    10.0          0.429663           0.613594\n",
              "4    15.0          0.392584           0.864999\n",
              "5    30.0          0.389846           0.999886"
            ]
          },
          "metadata": {
            "tags": []
          },
          "execution_count": 15
        }
      ]
    },
    {
      "cell_type": "code",
      "metadata": {
        "id": "yd9Txu8cO27Z",
        "outputId": "b0975271-d030-4f13-b240-1f3e8f60c137",
        "colab": {
          "base_uri": "https://localhost:8080/",
          "height": 279
        }
      },
      "source": [
        "plt.plot(table_df['Depths'],table_df['Testing_Accuracy'], label = 'Testing Accuracy')\n",
        "plt.plot(table_df['Depths'],table_df['Training_Accuracy'], label = 'Training Accuracy')\n",
        "plt.xlabel('Depths')\n",
        "plt.ylabel('Accuracy')\n",
        "plt.legend()\n",
        "plt.show()"
      ],
      "execution_count": 16,
      "outputs": [
        {
          "output_type": "display_data",
          "data": {
            "image/png": "[encoded data removed]",
            "text/plain": [
              "<Figure size 432x288 with 1 Axes>"
            ]
          },
          "metadata": {
            "tags": [],
            "needs_background": "light"
          }
        }
      ]
    },
    {
      "cell_type": "markdown",
      "metadata": {
        "id": "rvm5GMwBdCC5"
      },
      "source": [
        "# **Answer to Q3(c)**"
      ]
    },
    {
      "cell_type": "code",
      "metadata": {
        "id": "f6vq8I-1nJwB",
        "outputId": "19f4b9ca-afa7-4e5e-d1c6-cf96953d8740",
        "colab": {
          "base_uri": "https://localhost:8080/",
          "height": 402
        }
      },
      "source": [
        "sampdf = X_train.iloc[:,:8]\n",
        "sampdf['month'] = y_train\n",
        "sampdf"
      ],
      "execution_count": 17,
      "outputs": [
        {
          "output_type": "execute_result",
          "data": {
            "text/html": [
              "<div>\n",
              "<style scoped>\n",
              "    .dataframe tbody tr th:only-of-type {\n",
              "        vertical-align: middle;\n",
              "    }\n",
              "\n",
              "    .dataframe tbody tr th {\n",
              "        vertical-align: top;\n",
              "    }\n",
              "\n",
              "    .dataframe thead th {\n",
              "        text-align: right;\n",
              "    }\n",
              "</style>\n",
              "<table border=\"1\" class=\"dataframe\">\n",
              "  <thead>\n",
              "    <tr style=\"text-align: right;\">\n",
              "      <th></th>\n",
              "      <th>pm2.5</th>\n",
              "      <th>DEWP</th>\n",
              "      <th>TEMP</th>\n",
              "      <th>PRES</th>\n",
              "      <th>cbwd</th>\n",
              "      <th>Iws</th>\n",
              "      <th>Is</th>\n",
              "      <th>Ir</th>\n",
              "      <th>month</th>\n",
              "    </tr>\n",
              "  </thead>\n",
              "  <tbody>\n",
              "    <tr>\n",
              "      <th>0</th>\n",
              "      <td>98.613215</td>\n",
              "      <td>-21</td>\n",
              "      <td>-11.0</td>\n",
              "      <td>1021.0</td>\n",
              "      <td>1</td>\n",
              "      <td>1.79</td>\n",
              "      <td>0</td>\n",
              "      <td>0</td>\n",
              "      <td>1</td>\n",
              "    </tr>\n",
              "    <tr>\n",
              "      <th>1</th>\n",
              "      <td>98.613215</td>\n",
              "      <td>-21</td>\n",
              "      <td>-12.0</td>\n",
              "      <td>1020.0</td>\n",
              "      <td>1</td>\n",
              "      <td>4.92</td>\n",
              "      <td>0</td>\n",
              "      <td>0</td>\n",
              "      <td>1</td>\n",
              "    </tr>\n",
              "    <tr>\n",
              "      <th>2</th>\n",
              "      <td>98.613215</td>\n",
              "      <td>-21</td>\n",
              "      <td>-11.0</td>\n",
              "      <td>1019.0</td>\n",
              "      <td>1</td>\n",
              "      <td>6.71</td>\n",
              "      <td>0</td>\n",
              "      <td>0</td>\n",
              "      <td>1</td>\n",
              "    </tr>\n",
              "    <tr>\n",
              "      <th>3</th>\n",
              "      <td>98.613215</td>\n",
              "      <td>-21</td>\n",
              "      <td>-14.0</td>\n",
              "      <td>1019.0</td>\n",
              "      <td>1</td>\n",
              "      <td>9.84</td>\n",
              "      <td>0</td>\n",
              "      <td>0</td>\n",
              "      <td>1</td>\n",
              "    </tr>\n",
              "    <tr>\n",
              "      <th>4</th>\n",
              "      <td>98.613215</td>\n",
              "      <td>-20</td>\n",
              "      <td>-12.0</td>\n",
              "      <td>1018.0</td>\n",
              "      <td>1</td>\n",
              "      <td>12.97</td>\n",
              "      <td>0</td>\n",
              "      <td>0</td>\n",
              "      <td>1</td>\n",
              "    </tr>\n",
              "    <tr>\n",
              "      <th>...</th>\n",
              "      <td>...</td>\n",
              "      <td>...</td>\n",
              "      <td>...</td>\n",
              "      <td>...</td>\n",
              "      <td>...</td>\n",
              "      <td>...</td>\n",
              "      <td>...</td>\n",
              "      <td>...</td>\n",
              "      <td>...</td>\n",
              "    </tr>\n",
              "    <tr>\n",
              "      <th>35054</th>\n",
              "      <td>22.000000</td>\n",
              "      <td>-19</td>\n",
              "      <td>9.0</td>\n",
              "      <td>1011.0</td>\n",
              "      <td>1</td>\n",
              "      <td>73.31</td>\n",
              "      <td>0</td>\n",
              "      <td>0</td>\n",
              "      <td>12</td>\n",
              "    </tr>\n",
              "    <tr>\n",
              "      <th>35055</th>\n",
              "      <td>19.000000</td>\n",
              "      <td>-18</td>\n",
              "      <td>9.0</td>\n",
              "      <td>1012.0</td>\n",
              "      <td>1</td>\n",
              "      <td>83.14</td>\n",
              "      <td>0</td>\n",
              "      <td>0</td>\n",
              "      <td>12</td>\n",
              "    </tr>\n",
              "    <tr>\n",
              "      <th>35056</th>\n",
              "      <td>16.000000</td>\n",
              "      <td>-18</td>\n",
              "      <td>9.0</td>\n",
              "      <td>1012.0</td>\n",
              "      <td>1</td>\n",
              "      <td>92.97</td>\n",
              "      <td>0</td>\n",
              "      <td>0</td>\n",
              "      <td>12</td>\n",
              "    </tr>\n",
              "    <tr>\n",
              "      <th>35057</th>\n",
              "      <td>21.000000</td>\n",
              "      <td>-19</td>\n",
              "      <td>8.0</td>\n",
              "      <td>1012.0</td>\n",
              "      <td>1</td>\n",
              "      <td>102.80</td>\n",
              "      <td>0</td>\n",
              "      <td>0</td>\n",
              "      <td>12</td>\n",
              "    </tr>\n",
              "    <tr>\n",
              "      <th>35058</th>\n",
              "      <td>15.000000</td>\n",
              "      <td>-19</td>\n",
              "      <td>8.0</td>\n",
              "      <td>1013.0</td>\n",
              "      <td>1</td>\n",
              "      <td>109.95</td>\n",
              "      <td>0</td>\n",
              "      <td>0</td>\n",
              "      <td>12</td>\n",
              "    </tr>\n",
              "  </tbody>\n",
              "</table>\n",
              "<p>35059 rows × 9 columns</p>\n",
              "</div>"
            ],
            "text/plain": [
              "           pm2.5  DEWP  TEMP    PRES  cbwd     Iws  Is  Ir  month\n",
              "0      98.613215   -21 -11.0  1021.0     1    1.79   0   0      1\n",
              "1      98.613215   -21 -12.0  1020.0     1    4.92   0   0      1\n",
              "2      98.613215   -21 -11.0  1019.0     1    6.71   0   0      1\n",
              "3      98.613215   -21 -14.0  1019.0     1    9.84   0   0      1\n",
              "4      98.613215   -20 -12.0  1018.0     1   12.97   0   0      1\n",
              "...          ...   ...   ...     ...   ...     ...  ..  ..    ...\n",
              "35054  22.000000   -19   9.0  1011.0     1   73.31   0   0     12\n",
              "35055  19.000000   -18   9.0  1012.0     1   83.14   0   0     12\n",
              "35056  16.000000   -18   9.0  1012.0     1   92.97   0   0     12\n",
              "35057  21.000000   -19   8.0  1012.0     1  102.80   0   0     12\n",
              "35058  15.000000   -19   8.0  1013.0     1  109.95   0   0     12\n",
              "\n",
              "[35059 rows x 9 columns]"
            ]
          },
          "metadata": {
            "tags": []
          },
          "execution_count": 17
        }
      ]
    },
    {
      "cell_type": "code",
      "metadata": {
        "id": "lvX9-cdhdHX7"
      },
      "source": [
        "output = []\n",
        "Xtrain_df = sampdf\n",
        "for i in range(100):\n",
        "    newdf = Xtrain_df.sample(frac=0.5, replace=True, random_state=1).reset_index(drop=True)\n",
        "    X_train_new = newdf.drop('month',axis=1)\n",
        "    y_train_new = newdf['month']\n",
        "    cls1=dtc(criterion='entropy',max_depth=3)\n",
        "    cls1=cls1.fit(X_train_new,y_train_new)\n",
        "    output.append(cls1.predict(X_test))"
      ],
      "execution_count": 18,
      "outputs": []
    },
    {
      "cell_type": "code",
      "metadata": {
        "id": "duDXdH_jok74"
      },
      "source": [
        "majorityOutput = []\n",
        "output = np.array(output)\n",
        "temp = np.transpose(output)\n",
        "#len(temp)\n",
        "for i in range(temp.shape[0]):\n",
        "    majorityOutput.append(statistics.mode(temp[i]))\n",
        "    #np.bincount(temp[i]).argmax()"
      ],
      "execution_count": 19,
      "outputs": []
    },
    {
      "cell_type": "code",
      "metadata": {
        "id": "bAJdCBCWplW7",
        "outputId": "d974698e-b93a-4459-b40e-b3f363132771",
        "colab": {
          "base_uri": "https://localhost:8080/",
          "height": 34
        }
      },
      "source": [
        "y_test_new = np.array(y_test)\n",
        "y_test_new = (y_test_new).reshape(-1)\n",
        "#len(y_test_new)\n",
        "accuracy=np.sum(majorityOutput == y_test_new)/len(majorityOutput)\n",
        "accuracy"
      ],
      "execution_count": 20,
      "outputs": [
        {
          "output_type": "execute_result",
          "data": {
            "text/plain": [
              "0.3147746719908728"
            ]
          },
          "metadata": {
            "tags": []
          },
          "execution_count": 20
        }
      ]
    },
    {
      "cell_type": "markdown",
      "metadata": {
        "id": "7ecqXIHN2mMb"
      },
      "source": [
        "# **Answer to Q3(d)**"
      ]
    },
    {
      "cell_type": "code",
      "metadata": {
        "id": "BVgqSf-H2l2K"
      },
      "source": [
        "def EnsembleMethod(tr,dp):   #tr for number of trees and dp for depth\n",
        "    outputs = []\n",
        "    for i in range(tr):\n",
        "        newdf2 = sampdf.sample(frac=1)\n",
        "        train_size = int(0.5 * len(newdf2))\n",
        "        XTrain = newdf2.drop('month',axis=1)\n",
        "        XTrain = X_train_new[:train_size]\n",
        "        yTrain = newdf2['month']\n",
        "        yTrain = y_train_new[:train_size]\n",
        "        cls2 = dtc(criterion='entropy',max_depth=dp)\n",
        "        cls2 = cls2.fit(XTrain,yTrain)\n",
        "        outputs.append(cls2.predict(X_test))\n",
        "    finalOutput = []\n",
        "    temp2 = np.transpose(outputs)\n",
        "    for i in range(temp2.shape[0]):\n",
        "        finalOutput.append(np.bincount(temp2[i]).argmax())\n",
        "    yTest = np.array(y_test)\n",
        "    yTest = (yTest).reshape(-1)\n",
        "    accuracy = np.sum(finalOutput == yTest)/len(finalOutput)\n",
        "    return accuracy"
      ],
      "execution_count": 23,
      "outputs": []
    },
    {
      "cell_type": "code",
      "metadata": {
        "id": "hRCtSFYtt_s5"
      },
      "source": [
        "depths = [4, 8, 10, 15, 20,30]\n",
        "trees = [75,100,150,300,500,1000]\n",
        "acc = []; tr = []; dp = []\n",
        "for dep in depths:\n",
        "    for t in trees:\n",
        "        dp.append(dep)\n",
        "        tr.append(t)\n",
        "        accuracy = EnsembleMethod(t, dep)\n",
        "        acc.append(accuracy)        "
      ],
      "execution_count": 24,
      "outputs": []
    },
    {
      "cell_type": "code",
      "metadata": {
        "id": "_pD3rw9G6A-Z",
        "outputId": "b648ba9d-cda5-4877-8483-0ffb38dcea3f",
        "colab": {
          "base_uri": "https://localhost:8080/",
          "height": 1000
        }
      },
      "source": [
        "Trees = pd.DataFrame(tr)\n",
        "Depth = pd.DataFrame(dp)\n",
        "Accuracy = pd.DataFrame(acc)\n",
        "ensemble_df = pd.DataFrame(index = range(36))\n",
        "ensemble_df['Depths'] = Depth\n",
        "ensemble_df['Trees'] = Trees\n",
        "ensemble_df['Testing_Accuracy'] = Accuracy\n",
        "ensemble_df"
      ],
      "execution_count": 25,
      "outputs": [
        {
          "output_type": "execute_result",
          "data": {
            "text/html": [
              "<div>\n",
              "<style scoped>\n",
              "    .dataframe tbody tr th:only-of-type {\n",
              "        vertical-align: middle;\n",
              "    }\n",
              "\n",
              "    .dataframe tbody tr th {\n",
              "        vertical-align: top;\n",
              "    }\n",
              "\n",
              "    .dataframe thead th {\n",
              "        text-align: right;\n",
              "    }\n",
              "</style>\n",
              "<table border=\"1\" class=\"dataframe\">\n",
              "  <thead>\n",
              "    <tr style=\"text-align: right;\">\n",
              "      <th></th>\n",
              "      <th>Depths</th>\n",
              "      <th>Trees</th>\n",
              "      <th>Testing_Accuracy</th>\n",
              "    </tr>\n",
              "  </thead>\n",
              "  <tbody>\n",
              "    <tr>\n",
              "      <th>0</th>\n",
              "      <td>4</td>\n",
              "      <td>75</td>\n",
              "      <td>0.378095</td>\n",
              "    </tr>\n",
              "    <tr>\n",
              "      <th>1</th>\n",
              "      <td>4</td>\n",
              "      <td>100</td>\n",
              "      <td>0.378095</td>\n",
              "    </tr>\n",
              "    <tr>\n",
              "      <th>2</th>\n",
              "      <td>4</td>\n",
              "      <td>150</td>\n",
              "      <td>0.378095</td>\n",
              "    </tr>\n",
              "    <tr>\n",
              "      <th>3</th>\n",
              "      <td>4</td>\n",
              "      <td>300</td>\n",
              "      <td>0.378095</td>\n",
              "    </tr>\n",
              "    <tr>\n",
              "      <th>4</th>\n",
              "      <td>4</td>\n",
              "      <td>500</td>\n",
              "      <td>0.378095</td>\n",
              "    </tr>\n",
              "    <tr>\n",
              "      <th>5</th>\n",
              "      <td>4</td>\n",
              "      <td>1000</td>\n",
              "      <td>0.378095</td>\n",
              "    </tr>\n",
              "    <tr>\n",
              "      <th>6</th>\n",
              "      <td>8</td>\n",
              "      <td>75</td>\n",
              "      <td>0.418254</td>\n",
              "    </tr>\n",
              "    <tr>\n",
              "      <th>7</th>\n",
              "      <td>8</td>\n",
              "      <td>100</td>\n",
              "      <td>0.416429</td>\n",
              "    </tr>\n",
              "    <tr>\n",
              "      <th>8</th>\n",
              "      <td>8</td>\n",
              "      <td>150</td>\n",
              "      <td>0.416771</td>\n",
              "    </tr>\n",
              "    <tr>\n",
              "      <th>9</th>\n",
              "      <td>8</td>\n",
              "      <td>300</td>\n",
              "      <td>0.416771</td>\n",
              "    </tr>\n",
              "    <tr>\n",
              "      <th>10</th>\n",
              "      <td>8</td>\n",
              "      <td>500</td>\n",
              "      <td>0.416771</td>\n",
              "    </tr>\n",
              "    <tr>\n",
              "      <th>11</th>\n",
              "      <td>8</td>\n",
              "      <td>1000</td>\n",
              "      <td>0.416771</td>\n",
              "    </tr>\n",
              "    <tr>\n",
              "      <th>12</th>\n",
              "      <td>10</td>\n",
              "      <td>75</td>\n",
              "      <td>0.417228</td>\n",
              "    </tr>\n",
              "    <tr>\n",
              "      <th>13</th>\n",
              "      <td>10</td>\n",
              "      <td>100</td>\n",
              "      <td>0.415859</td>\n",
              "    </tr>\n",
              "    <tr>\n",
              "      <th>14</th>\n",
              "      <td>10</td>\n",
              "      <td>150</td>\n",
              "      <td>0.416429</td>\n",
              "    </tr>\n",
              "    <tr>\n",
              "      <th>15</th>\n",
              "      <td>10</td>\n",
              "      <td>300</td>\n",
              "      <td>0.414489</td>\n",
              "    </tr>\n",
              "    <tr>\n",
              "      <th>16</th>\n",
              "      <td>10</td>\n",
              "      <td>500</td>\n",
              "      <td>0.416201</td>\n",
              "    </tr>\n",
              "    <tr>\n",
              "      <th>17</th>\n",
              "      <td>10</td>\n",
              "      <td>1000</td>\n",
              "      <td>0.417684</td>\n",
              "    </tr>\n",
              "    <tr>\n",
              "      <th>18</th>\n",
              "      <td>15</td>\n",
              "      <td>75</td>\n",
              "      <td>0.371249</td>\n",
              "    </tr>\n",
              "    <tr>\n",
              "      <th>19</th>\n",
              "      <td>15</td>\n",
              "      <td>100</td>\n",
              "      <td>0.371592</td>\n",
              "    </tr>\n",
              "    <tr>\n",
              "      <th>20</th>\n",
              "      <td>15</td>\n",
              "      <td>150</td>\n",
              "      <td>0.374558</td>\n",
              "    </tr>\n",
              "    <tr>\n",
              "      <th>21</th>\n",
              "      <td>15</td>\n",
              "      <td>300</td>\n",
              "      <td>0.374102</td>\n",
              "    </tr>\n",
              "    <tr>\n",
              "      <th>22</th>\n",
              "      <td>15</td>\n",
              "      <td>500</td>\n",
              "      <td>0.372504</td>\n",
              "    </tr>\n",
              "    <tr>\n",
              "      <th>23</th>\n",
              "      <td>15</td>\n",
              "      <td>1000</td>\n",
              "      <td>0.372732</td>\n",
              "    </tr>\n",
              "    <tr>\n",
              "      <th>24</th>\n",
              "      <td>20</td>\n",
              "      <td>75</td>\n",
              "      <td>0.377296</td>\n",
              "    </tr>\n",
              "    <tr>\n",
              "      <th>25</th>\n",
              "      <td>20</td>\n",
              "      <td>100</td>\n",
              "      <td>0.376954</td>\n",
              "    </tr>\n",
              "    <tr>\n",
              "      <th>26</th>\n",
              "      <td>20</td>\n",
              "      <td>150</td>\n",
              "      <td>0.373759</td>\n",
              "    </tr>\n",
              "    <tr>\n",
              "      <th>27</th>\n",
              "      <td>20</td>\n",
              "      <td>300</td>\n",
              "      <td>0.378437</td>\n",
              "    </tr>\n",
              "    <tr>\n",
              "      <th>28</th>\n",
              "      <td>20</td>\n",
              "      <td>500</td>\n",
              "      <td>0.376497</td>\n",
              "    </tr>\n",
              "    <tr>\n",
              "      <th>29</th>\n",
              "      <td>20</td>\n",
              "      <td>1000</td>\n",
              "      <td>0.376726</td>\n",
              "    </tr>\n",
              "    <tr>\n",
              "      <th>30</th>\n",
              "      <td>30</td>\n",
              "      <td>75</td>\n",
              "      <td>0.378551</td>\n",
              "    </tr>\n",
              "    <tr>\n",
              "      <th>31</th>\n",
              "      <td>30</td>\n",
              "      <td>100</td>\n",
              "      <td>0.376269</td>\n",
              "    </tr>\n",
              "    <tr>\n",
              "      <th>32</th>\n",
              "      <td>30</td>\n",
              "      <td>150</td>\n",
              "      <td>0.378095</td>\n",
              "    </tr>\n",
              "    <tr>\n",
              "      <th>33</th>\n",
              "      <td>30</td>\n",
              "      <td>300</td>\n",
              "      <td>0.375471</td>\n",
              "    </tr>\n",
              "    <tr>\n",
              "      <th>34</th>\n",
              "      <td>30</td>\n",
              "      <td>500</td>\n",
              "      <td>0.376726</td>\n",
              "    </tr>\n",
              "    <tr>\n",
              "      <th>35</th>\n",
              "      <td>30</td>\n",
              "      <td>1000</td>\n",
              "      <td>0.377867</td>\n",
              "    </tr>\n",
              "  </tbody>\n",
              "</table>\n",
              "</div>"
            ],
            "text/plain": [
              "    Depths  Trees  Testing_Accuracy\n",
              "0        4     75          0.378095\n",
              "1        4    100          0.378095\n",
              "2        4    150          0.378095\n",
              "3        4    300          0.378095\n",
              "4        4    500          0.378095\n",
              "5        4   1000          0.378095\n",
              "6        8     75          0.418254\n",
              "7        8    100          0.416429\n",
              "8        8    150          0.416771\n",
              "9        8    300          0.416771\n",
              "10       8    500          0.416771\n",
              "11       8   1000          0.416771\n",
              "12      10     75          0.417228\n",
              "13      10    100          0.415859\n",
              "14      10    150          0.416429\n",
              "15      10    300          0.414489\n",
              "16      10    500          0.416201\n",
              "17      10   1000          0.417684\n",
              "18      15     75          0.371249\n",
              "19      15    100          0.371592\n",
              "20      15    150          0.374558\n",
              "21      15    300          0.374102\n",
              "22      15    500          0.372504\n",
              "23      15   1000          0.372732\n",
              "24      20     75          0.377296\n",
              "25      20    100          0.376954\n",
              "26      20    150          0.373759\n",
              "27      20    300          0.378437\n",
              "28      20    500          0.376497\n",
              "29      20   1000          0.376726\n",
              "30      30     75          0.378551\n",
              "31      30    100          0.376269\n",
              "32      30    150          0.378095\n",
              "33      30    300          0.375471\n",
              "34      30    500          0.376726\n",
              "35      30   1000          0.377867"
            ]
          },
          "metadata": {
            "tags": []
          },
          "execution_count": 25
        }
      ]
    },
    {
      "cell_type": "code",
      "metadata": {
        "id": "vvufLO7nFF7B"
      },
      "source": [
        "def EnsembleMethod2(tr,dp):   #tr for number of trees and dp for depth\n",
        "    outputs = []\n",
        "    for i in range(tr):\n",
        "        newdf2 = sampdf.sample(frac=1)\n",
        "        train_size = int(0.5 * len(newdf2))\n",
        "        XTrain = newdf2.drop('month',axis=1)\n",
        "        XTrain = X_train_new[:train_size]\n",
        "        yTrain = newdf2['month']\n",
        "        yTrain = y_train_new[:train_size]\n",
        "        cls2 = dtc(criterion='entropy',max_depth=dp)\n",
        "        cls2 = cls2.fit(XTrain,yTrain)\n",
        "        outputs.append(cls2.predict(X_train))\n",
        "    finalOutput = []\n",
        "    temp2 = np.transpose(outputs)\n",
        "    for i in range(temp2.shape[0]):\n",
        "        finalOutput.append(np.bincount(temp2[i]).argmax())\n",
        "    yTest = np.array(y_train)\n",
        "    yTest = (yTest).reshape(-1)\n",
        "    accuracy = np.sum(finalOutput == yTest)/len(finalOutput)\n",
        "    return accuracy"
      ],
      "execution_count": 28,
      "outputs": []
    },
    {
      "cell_type": "code",
      "metadata": {
        "id": "j0XHPvbzHptb"
      },
      "source": [
        "depths = [4, 8, 10, 15, 20,30]\n",
        "trees = [75,100,150,300,500,1000]\n",
        "acc2 = []; tr2 = []; dp2 = []\n",
        "for dep in depths:\n",
        "    for t in trees:\n",
        "        dp2.append(dep)\n",
        "        tr2.append(t)\n",
        "        accuracy2 = EnsembleMethod2(t, dep)\n",
        "        acc2.append(accuracy2)       "
      ],
      "execution_count": 31,
      "outputs": []
    },
    {
      "cell_type": "code",
      "metadata": {
        "id": "TVqj-4pRVl41",
        "outputId": "f52c6d2c-ca79-4532-cf35-48b46d20cf89",
        "colab": {
          "base_uri": "https://localhost:8080/",
          "height": 1000
        }
      },
      "source": [
        "ensemble_df['Training_Accuracy'] = pd.DataFrame(acc2)\n",
        "ensemble_df"
      ],
      "execution_count": 32,
      "outputs": [
        {
          "output_type": "execute_result",
          "data": {
            "text/html": [
              "<div>\n",
              "<style scoped>\n",
              "    .dataframe tbody tr th:only-of-type {\n",
              "        vertical-align: middle;\n",
              "    }\n",
              "\n",
              "    .dataframe tbody tr th {\n",
              "        vertical-align: top;\n",
              "    }\n",
              "\n",
              "    .dataframe thead th {\n",
              "        text-align: right;\n",
              "    }\n",
              "</style>\n",
              "<table border=\"1\" class=\"dataframe\">\n",
              "  <thead>\n",
              "    <tr style=\"text-align: right;\">\n",
              "      <th></th>\n",
              "      <th>Depths</th>\n",
              "      <th>Trees</th>\n",
              "      <th>Testing_Accuracy</th>\n",
              "      <th>Training_Accuracy</th>\n",
              "    </tr>\n",
              "  </thead>\n",
              "  <tbody>\n",
              "    <tr>\n",
              "      <th>0</th>\n",
              "      <td>4</td>\n",
              "      <td>75</td>\n",
              "      <td>0.378095</td>\n",
              "      <td>0.400439</td>\n",
              "    </tr>\n",
              "    <tr>\n",
              "      <th>1</th>\n",
              "      <td>4</td>\n",
              "      <td>100</td>\n",
              "      <td>0.378095</td>\n",
              "      <td>0.400439</td>\n",
              "    </tr>\n",
              "    <tr>\n",
              "      <th>2</th>\n",
              "      <td>4</td>\n",
              "      <td>150</td>\n",
              "      <td>0.378095</td>\n",
              "      <td>0.400439</td>\n",
              "    </tr>\n",
              "    <tr>\n",
              "      <th>3</th>\n",
              "      <td>4</td>\n",
              "      <td>300</td>\n",
              "      <td>0.378095</td>\n",
              "      <td>0.400439</td>\n",
              "    </tr>\n",
              "    <tr>\n",
              "      <th>4</th>\n",
              "      <td>4</td>\n",
              "      <td>500</td>\n",
              "      <td>0.378095</td>\n",
              "      <td>0.400439</td>\n",
              "    </tr>\n",
              "    <tr>\n",
              "      <th>5</th>\n",
              "      <td>4</td>\n",
              "      <td>1000</td>\n",
              "      <td>0.378095</td>\n",
              "      <td>0.400439</td>\n",
              "    </tr>\n",
              "    <tr>\n",
              "      <th>6</th>\n",
              "      <td>8</td>\n",
              "      <td>75</td>\n",
              "      <td>0.418254</td>\n",
              "      <td>0.520494</td>\n",
              "    </tr>\n",
              "    <tr>\n",
              "      <th>7</th>\n",
              "      <td>8</td>\n",
              "      <td>100</td>\n",
              "      <td>0.416429</td>\n",
              "      <td>0.520152</td>\n",
              "    </tr>\n",
              "    <tr>\n",
              "      <th>8</th>\n",
              "      <td>8</td>\n",
              "      <td>150</td>\n",
              "      <td>0.416771</td>\n",
              "      <td>0.520380</td>\n",
              "    </tr>\n",
              "    <tr>\n",
              "      <th>9</th>\n",
              "      <td>8</td>\n",
              "      <td>300</td>\n",
              "      <td>0.416771</td>\n",
              "      <td>0.520665</td>\n",
              "    </tr>\n",
              "    <tr>\n",
              "      <th>10</th>\n",
              "      <td>8</td>\n",
              "      <td>500</td>\n",
              "      <td>0.416771</td>\n",
              "      <td>0.520494</td>\n",
              "    </tr>\n",
              "    <tr>\n",
              "      <th>11</th>\n",
              "      <td>8</td>\n",
              "      <td>1000</td>\n",
              "      <td>0.416771</td>\n",
              "      <td>0.519981</td>\n",
              "    </tr>\n",
              "    <tr>\n",
              "      <th>12</th>\n",
              "      <td>10</td>\n",
              "      <td>75</td>\n",
              "      <td>0.417228</td>\n",
              "      <td>0.573947</td>\n",
              "    </tr>\n",
              "    <tr>\n",
              "      <th>13</th>\n",
              "      <td>10</td>\n",
              "      <td>100</td>\n",
              "      <td>0.415859</td>\n",
              "      <td>0.573918</td>\n",
              "    </tr>\n",
              "    <tr>\n",
              "      <th>14</th>\n",
              "      <td>10</td>\n",
              "      <td>150</td>\n",
              "      <td>0.416429</td>\n",
              "      <td>0.573633</td>\n",
              "    </tr>\n",
              "    <tr>\n",
              "      <th>15</th>\n",
              "      <td>10</td>\n",
              "      <td>300</td>\n",
              "      <td>0.414489</td>\n",
              "      <td>0.573633</td>\n",
              "    </tr>\n",
              "    <tr>\n",
              "      <th>16</th>\n",
              "      <td>10</td>\n",
              "      <td>500</td>\n",
              "      <td>0.416201</td>\n",
              "      <td>0.573433</td>\n",
              "    </tr>\n",
              "    <tr>\n",
              "      <th>17</th>\n",
              "      <td>10</td>\n",
              "      <td>1000</td>\n",
              "      <td>0.417684</td>\n",
              "      <td>0.573776</td>\n",
              "    </tr>\n",
              "    <tr>\n",
              "      <th>18</th>\n",
              "      <td>15</td>\n",
              "      <td>75</td>\n",
              "      <td>0.371249</td>\n",
              "      <td>0.701361</td>\n",
              "    </tr>\n",
              "    <tr>\n",
              "      <th>19</th>\n",
              "      <td>15</td>\n",
              "      <td>100</td>\n",
              "      <td>0.371592</td>\n",
              "      <td>0.701874</td>\n",
              "    </tr>\n",
              "    <tr>\n",
              "      <th>20</th>\n",
              "      <td>15</td>\n",
              "      <td>150</td>\n",
              "      <td>0.374558</td>\n",
              "      <td>0.702416</td>\n",
              "    </tr>\n",
              "    <tr>\n",
              "      <th>21</th>\n",
              "      <td>15</td>\n",
              "      <td>300</td>\n",
              "      <td>0.374102</td>\n",
              "      <td>0.702530</td>\n",
              "    </tr>\n",
              "    <tr>\n",
              "      <th>22</th>\n",
              "      <td>15</td>\n",
              "      <td>500</td>\n",
              "      <td>0.372504</td>\n",
              "      <td>0.701589</td>\n",
              "    </tr>\n",
              "    <tr>\n",
              "      <th>23</th>\n",
              "      <td>15</td>\n",
              "      <td>1000</td>\n",
              "      <td>0.372732</td>\n",
              "      <td>0.702102</td>\n",
              "    </tr>\n",
              "    <tr>\n",
              "      <th>24</th>\n",
              "      <td>20</td>\n",
              "      <td>75</td>\n",
              "      <td>0.377296</td>\n",
              "      <td>0.737756</td>\n",
              "    </tr>\n",
              "    <tr>\n",
              "      <th>25</th>\n",
              "      <td>20</td>\n",
              "      <td>100</td>\n",
              "      <td>0.376954</td>\n",
              "      <td>0.737899</td>\n",
              "    </tr>\n",
              "    <tr>\n",
              "      <th>26</th>\n",
              "      <td>20</td>\n",
              "      <td>150</td>\n",
              "      <td>0.373759</td>\n",
              "      <td>0.737642</td>\n",
              "    </tr>\n",
              "    <tr>\n",
              "      <th>27</th>\n",
              "      <td>20</td>\n",
              "      <td>300</td>\n",
              "      <td>0.378437</td>\n",
              "      <td>0.738384</td>\n",
              "    </tr>\n",
              "    <tr>\n",
              "      <th>28</th>\n",
              "      <td>20</td>\n",
              "      <td>500</td>\n",
              "      <td>0.376497</td>\n",
              "      <td>0.738555</td>\n",
              "    </tr>\n",
              "    <tr>\n",
              "      <th>29</th>\n",
              "      <td>20</td>\n",
              "      <td>1000</td>\n",
              "      <td>0.376726</td>\n",
              "      <td>0.737756</td>\n",
              "    </tr>\n",
              "    <tr>\n",
              "      <th>30</th>\n",
              "      <td>30</td>\n",
              "      <td>75</td>\n",
              "      <td>0.378551</td>\n",
              "      <td>0.738869</td>\n",
              "    </tr>\n",
              "    <tr>\n",
              "      <th>31</th>\n",
              "      <td>30</td>\n",
              "      <td>100</td>\n",
              "      <td>0.376269</td>\n",
              "      <td>0.739667</td>\n",
              "    </tr>\n",
              "    <tr>\n",
              "      <th>32</th>\n",
              "      <td>30</td>\n",
              "      <td>150</td>\n",
              "      <td>0.378095</td>\n",
              "      <td>0.739610</td>\n",
              "    </tr>\n",
              "    <tr>\n",
              "      <th>33</th>\n",
              "      <td>30</td>\n",
              "      <td>300</td>\n",
              "      <td>0.375471</td>\n",
              "      <td>0.738897</td>\n",
              "    </tr>\n",
              "    <tr>\n",
              "      <th>34</th>\n",
              "      <td>30</td>\n",
              "      <td>500</td>\n",
              "      <td>0.376726</td>\n",
              "      <td>0.738783</td>\n",
              "    </tr>\n",
              "    <tr>\n",
              "      <th>35</th>\n",
              "      <td>30</td>\n",
              "      <td>1000</td>\n",
              "      <td>0.377867</td>\n",
              "      <td>0.739724</td>\n",
              "    </tr>\n",
              "  </tbody>\n",
              "</table>\n",
              "</div>"
            ],
            "text/plain": [
              "    Depths  Trees  Testing_Accuracy  Training_Accuracy\n",
              "0        4     75          0.378095           0.400439\n",
              "1        4    100          0.378095           0.400439\n",
              "2        4    150          0.378095           0.400439\n",
              "3        4    300          0.378095           0.400439\n",
              "4        4    500          0.378095           0.400439\n",
              "5        4   1000          0.378095           0.400439\n",
              "6        8     75          0.418254           0.520494\n",
              "7        8    100          0.416429           0.520152\n",
              "8        8    150          0.416771           0.520380\n",
              "9        8    300          0.416771           0.520665\n",
              "10       8    500          0.416771           0.520494\n",
              "11       8   1000          0.416771           0.519981\n",
              "12      10     75          0.417228           0.573947\n",
              "13      10    100          0.415859           0.573918\n",
              "14      10    150          0.416429           0.573633\n",
              "15      10    300          0.414489           0.573633\n",
              "16      10    500          0.416201           0.573433\n",
              "17      10   1000          0.417684           0.573776\n",
              "18      15     75          0.371249           0.701361\n",
              "19      15    100          0.371592           0.701874\n",
              "20      15    150          0.374558           0.702416\n",
              "21      15    300          0.374102           0.702530\n",
              "22      15    500          0.372504           0.701589\n",
              "23      15   1000          0.372732           0.702102\n",
              "24      20     75          0.377296           0.737756\n",
              "25      20    100          0.376954           0.737899\n",
              "26      20    150          0.373759           0.737642\n",
              "27      20    300          0.378437           0.738384\n",
              "28      20    500          0.376497           0.738555\n",
              "29      20   1000          0.376726           0.737756\n",
              "30      30     75          0.378551           0.738869\n",
              "31      30    100          0.376269           0.739667\n",
              "32      30    150          0.378095           0.739610\n",
              "33      30    300          0.375471           0.738897\n",
              "34      30    500          0.376726           0.738783\n",
              "35      30   1000          0.377867           0.739724"
            ]
          },
          "metadata": {
            "tags": []
          },
          "execution_count": 32
        }
      ]
    },
    {
      "cell_type": "code",
      "metadata": {
        "id": "43rGLrbiAX47",
        "outputId": "87436034-cca1-42fd-cd37-b0dd4b8766a1",
        "colab": {
          "base_uri": "https://localhost:8080/",
          "height": 279
        }
      },
      "source": [
        "plt.plot(ensemble_df['Depths'],ensemble_df['Testing_Accuracy'], label = 'Testing Accuracy')\n",
        "plt.plot(ensemble_df['Depths'],ensemble_df['Training_Accuracy'], label = 'Training Accuracy')\n",
        "plt.xlabel('Depths')\n",
        "plt.ylabel('Accuracy')\n",
        "plt.legend()\n",
        "plt.show()"
      ],
      "execution_count": 33,
      "outputs": [
        {
          "output_type": "display_data",
          "data": {
            "image/png": "[encoded data removed]",
            "text/plain": [
              "<Figure size 432x288 with 1 Axes>"
            ]
          },
          "metadata": {
            "tags": [],
            "needs_background": "light"
          }
        }
      ]
    }
  ]
}